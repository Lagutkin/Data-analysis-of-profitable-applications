{
 "cells": [
  {
   "cell_type": "markdown",
   "id": "df82922a",
   "metadata": {},
   "source": [
    "# Profitable applications profiles for the App Store and Google Play markets\n",
    "This project is about analyzing information from two datasets: `Apple Store` and `Google Play Store` markets. The information will help us to conclude what types of application are more profitable to develop and give this infomation to the developing team. Our company develops free applications aimed at English-speaking users and the main source of revenue consists of in-applications ads. This means that our revenue for any given application is mostly influenced by the number of users that use our application. Our goal for this project is to analyze data to help our developers understand what kinds of applications are likely to attract more users."
   ]
  },
  {
   "cell_type": "markdown",
   "id": "b553fc8b",
   "metadata": {},
   "source": [
    "### Opening and exploring the data\n",
    "Links on the documentation of the datasets using in this project:\n",
    "\n",
    "1) [AppleStore dataset](https://www.kaggle.com/ramamet4/app-store-apple-data-set-10k-apps).\n",
    "\n",
    "Content:\n",
    "* \"id\" : Application ID\n",
    "* \"track_name\": Application Name\n",
    "* \"size_bytes\": Size (in Bytes)\n",
    "* \"currency\": Currency Type\n",
    "* \"price\": Price amount\n",
    "* \"ratingcounttot\": User Rating counts (for all version)\n",
    "* \"ratingcountver\": User Rating counts (for current version)\n",
    "* \"user_rating\" : Average User Rating value (for all version)\n",
    "* \"userratingver\": Average User Rating value (for current version)\n",
    "* \"ver\" : Latest version code\n",
    "* \"cont_rating\": Content Rating\n",
    "* \"prime_genre\": Primary Genre\n",
    "* \"sup_devices.num\": Number of supporting devices\n",
    "* \"ipadSc_urls.num\": Number of screenshots showed for display\n",
    "* \"lang.num\": Number of supported languages\n",
    "* \"vpp_lic\": Vpp Device Based Licensing Enabled\n",
    "\n",
    "2) [GooglePlayStore dataset](https://www.kaggle.com/lava18/google-play-store-apps).\n",
    "\n",
    "Content:\n",
    "\n",
    "* \"App\" : Application Name\n",
    "* \"Category\" : Application category\n",
    "* \"Rating\" : User Rating counts\n",
    "* \"Reviews\" : User Reviews counts\n",
    "* \"Size\" : Size (in Megabytes)\n",
    "* \"Installs\" : Number of installs\n",
    "* \"Type\" : Paid/Unpaid\n",
    "* \"Price\" : Price amount\n",
    "* \"Content Rating\" : Minimum acceptable age\n",
    "* \"Genres\" : Primary Genre\n",
    "* \"Last Updated\" : Date of the last update\n",
    "* \"Current Ver\" : Application current version\n",
    "* \"Android Ver\" : Required android version\n",
    "\n",
    "First of all, to start working with the information stored in the datasets we will extract it from a `CSV` files and assign it to variables:\n",
    "1. `DataAppleStore` for the information from the `AppleStore` dataset.\n",
    "2. `DataGooglePlayStore` for the information from the `GooglePlayStore` dataset.\n",
    "\n",
    "To do it, we will use a function `extract_data` that takes one argument `directory` and returns information from the dataset in the \"list of lists\" format."
   ]
  },
  {
   "cell_type": "code",
   "execution_count": 1,
   "id": "a1d1eb7d",
   "metadata": {},
   "outputs": [],
   "source": [
    "from csv import reader\n",
    "def extract_data(directory):\n",
    "    OpenDataset = open(directory, encoding = \"utf8\")\n",
    "    ReadData = reader(OpenDataset)\n",
    "    return list(ReadData)\n",
    "DataAppleStore = extract_data('..\\..\\..\\Datasets\\First\\AppleStore.csv')\n",
    "DataGooglePlayStore = extract_data('..\\..\\..\\Datasets\\First\\googleplaystore.csv')"
   ]
  },
  {
   "cell_type": "markdown",
   "id": "92d31118",
   "metadata": {},
   "source": [
    "To have a first look at the data we will write the `explore_data` function that takes 4 arguments:\n",
    "1. `dataset` - a title of a dataset, in our case it `DataAppleStore` and `DataGooglePlayStore` titles.\n",
    "2. `start` and `end` - the start and the end indexes of a given dataset to display a certain number of rows that we want to analyze.\n",
    "3. `rows_and_columns` - this argument is used to indicate if we need to display the aggregated information about the number of rows and the number of columns on the interval of rows chosen in the previous step. The argument is \"False\" by default.\n",
    "\n",
    "After execution, the function will print rows on the chosen interval and aggregated information about the number of rows and columns (only if the information is needed)."
   ]
  },
  {
   "cell_type": "code",
   "execution_count": 2,
   "id": "b966df98",
   "metadata": {},
   "outputs": [],
   "source": [
    "def explore_data(dataset, start, end, rows_and_columns=False):\n",
    "    dataset_slice = dataset[start:end]    \n",
    "    for row in dataset_slice:\n",
    "        print(row)\n",
    "        print('\\n')\n",
    "\n",
    "    if rows_and_columns:\n",
    "        print('Number of rows:', len(dataset))\n",
    "        print('Number of columns:', len(dataset[0]))\n",
    "        print('\\n')"
   ]
  },
  {
   "cell_type": "markdown",
   "id": "b2c1fe99",
   "metadata": {},
   "source": [
    "The next block of code will use the `explore_data` function to display several rows to have a first look at the data."
   ]
  },
  {
   "cell_type": "code",
   "execution_count": 3,
   "id": "d1f679e7",
   "metadata": {
    "scrolled": true
   },
   "outputs": [
    {
     "name": "stdout",
     "output_type": "stream",
     "text": [
      "Exaples of the \"Apple Store\" data:\n",
      "['id', 'track_name', 'size_bytes', 'currency', 'price', 'rating_count_tot', 'rating_count_ver', 'user_rating', 'user_rating_ver', 'ver', 'cont_rating', 'prime_genre', 'sup_devices.num', 'ipadSc_urls.num', 'lang.num', 'vpp_lic']\n",
      "\n",
      "\n",
      "['284882215', 'Facebook', '389879808', 'USD', '0.0', '2974676', '212', '3.5', '3.5', '95.0', '4+', 'Social Networking', '37', '1', '29', '1']\n",
      "\n",
      "\n",
      "['389801252', 'Instagram', '113954816', 'USD', '0.0', '2161558', '1289', '4.5', '4.0', '10.23', '12+', 'Photo & Video', '37', '0', '29', '1']\n",
      "\n",
      "\n",
      "Number of rows: 7198\n",
      "Number of columns: 16\n",
      "\n",
      "\n",
      "Exaples of the \"Google Play Store\" data:\n",
      "['App', 'Category', 'Rating', 'Reviews', 'Size', 'Installs', 'Type', 'Price', 'Content Rating', 'Genres', 'Last Updated', 'Current Ver', 'Android Ver']\n",
      "\n",
      "\n",
      "['Photo Editor & Candy Camera & Grid & ScrapBook', 'ART_AND_DESIGN', '4.1', '159', '19M', '10,000+', 'Free', '0', 'Everyone', 'Art & Design', 'January 7, 2018', '1.0.0', '4.0.3 and up']\n",
      "\n",
      "\n",
      "['Coloring book moana', 'ART_AND_DESIGN', '3.9', '967', '14M', '500,000+', 'Free', '0', 'Everyone', 'Art & Design;Pretend Play', 'January 15, 2018', '2.0.0', '4.0.3 and up']\n",
      "\n",
      "\n",
      "Number of rows: 10842\n",
      "Number of columns: 13\n",
      "\n",
      "\n"
     ]
    }
   ],
   "source": [
    "print('Exaples of the \"Apple Store\" data:')\n",
    "explore_data(DataAppleStore[0:], 0, 3, True)\n",
    "print('Exaples of the \"Google Play Store\" data:')\n",
    "explore_data(DataGooglePlayStore[0:], 0, 3, True)"
   ]
  },
  {
   "cell_type": "markdown",
   "id": "0f513f85",
   "metadata": {},
   "source": [
    "From the output we can see that the `Apple Store` data set has 7197 applications. At a quick glance, the columns that might be useful for the purpose of our analysis are `track_name`, `price`, `rating_count_tot`, `user_rating`, and `prime_genre`.\n",
    "\n",
    "Google Play data set has 10841 applications. Columns that might be useful for the purpose of our analysis are `App`, `Rating`, `Category`, `Reviews`, `Installs`, `Type`, `Price`, and `Genres`."
   ]
  },
  {
   "cell_type": "markdown",
   "id": "de0f2673",
   "metadata": {},
   "source": [
    "### Deleting wrong data\n",
    "The `Google Play` dataset has a dedicated [discussion section](https://www.kaggle.com/lava18/google-play-store-apps/discussion), and we can see that [one of the discussions](https://www.kaggle.com/lava18/google-play-store-apps/discussion/164101) outlines an error for row 10472 if header is not encluded. Let's print this row and compare it against the header and another row that is correct."
   ]
  },
  {
   "cell_type": "code",
   "execution_count": 4,
   "id": "2082e920",
   "metadata": {},
   "outputs": [
    {
     "name": "stdout",
     "output_type": "stream",
     "text": [
      "['App', 'Category', 'Rating', 'Reviews', 'Size', 'Installs', 'Type', 'Price', 'Content Rating', 'Genres', 'Last Updated', 'Current Ver', 'Android Ver']\n",
      "\n",
      "\n",
      "['Photo Editor & Candy Camera & Grid & ScrapBook', 'ART_AND_DESIGN', '4.1', '159', '19M', '10,000+', 'Free', '0', 'Everyone', 'Art & Design', 'January 7, 2018', '1.0.0', '4.0.3 and up']\n",
      "\n",
      "\n",
      "['Life Made WI-Fi Touchscreen Photo Frame', '1.9', '19', '3.0M', '1,000+', 'Free', '0', 'Everyone', '', 'February 11, 2018', '1.0.19', '4.0 and up']\n"
     ]
    }
   ],
   "source": [
    "print(DataGooglePlayStore[0])\n",
    "print('\\n')\n",
    "print(DataGooglePlayStore[1])\n",
    "print('\\n')\n",
    "print(DataGooglePlayStore[10473])"
   ]
  },
  {
   "cell_type": "markdown",
   "id": "2f63a128",
   "metadata": {},
   "source": [
    "The row 10472 corresponds to the application `Life Made WI-Fi Touchscreen Photo Frame`, and we can see that the rating is 19. This is clearly off because the maximum rating for a Google Play app is 5 (as mentioned in the [discussions section](https://www.kaggle.com/lava18/google-play-store-apps/discussion/66015), this problem is caused by a missing value in the 'Category' column)."
   ]
  },
  {
   "cell_type": "markdown",
   "id": "ef5740f4",
   "metadata": {},
   "source": [
    "The next block of code is used for deleting the row with wrong data from the data set assigned to a variable `DataGooglePlayStore`."
   ]
  },
  {
   "cell_type": "code",
   "execution_count": 5,
   "id": "8b803d66",
   "metadata": {},
   "outputs": [
    {
     "name": "stdout",
     "output_type": "stream",
     "text": [
      "10842\n",
      "10841\n"
     ]
    }
   ],
   "source": [
    "print(len(DataGooglePlayStore))\n",
    "del DataGooglePlayStore[10473]\n",
    "print(len(DataGooglePlayStore))"
   ]
  },
  {
   "cell_type": "markdown",
   "id": "b581c0c8",
   "metadata": {},
   "source": [
    "### Removing duplicate entries\n",
    "\n",
    "In the next step, we will check if the datasets have duplicate entries. To do it, we will write the `check_duplicates` function which takes two arguments (a dataset and an index of a column that contains information about a name of an application), checks if there are rows with the same name, and return two lists: a list of unique values and a list of duplicate values."
   ]
  },
  {
   "cell_type": "code",
   "execution_count": 6,
   "id": "655d8234",
   "metadata": {
    "scrolled": true
   },
   "outputs": [
    {
     "name": "stdout",
     "output_type": "stream",
     "text": [
      "Number of unique applications in the AppleStore dataset is:  7195\n",
      "Number of duplicate applications in the AppleStore dataset is:  2\n",
      "\n",
      "\n",
      "Number of unique applications in the GooglePlayStore dataset is:  9659\n",
      "Number of duplicate applications in the GooglePlayStore dataset is:  1181\n"
     ]
    }
   ],
   "source": [
    "def check_duplicates(dataset, name_index):\n",
    "    duplicate_vals = []\n",
    "    unique_vals = []\n",
    "    for row in dataset:\n",
    "        if row[name_index] in unique_vals:\n",
    "            duplicate_vals.append(row[name_index])\n",
    "        else:\n",
    "            unique_vals.append(row[name_index])\n",
    "    return unique_vals, duplicate_vals\n",
    "AppleStore_Vals = check_duplicates(DataAppleStore[1:], 1) #We specify the range [1:] because we do not want to include header. An index of a column that contains information about a name of an application for the AppleStore dataset is 1.\n",
    "Unique_AppleStore_Vals = list(AppleStore_Vals[0])\n",
    "Duplicate_AppleStore_Vals = list(AppleStore_Vals[1])\n",
    "print('Number of unique applications in the AppleStore dataset is: ', len(Unique_AppleStore_Vals))\n",
    "print('Number of duplicate applications in the AppleStore dataset is: ', len(Duplicate_AppleStore_Vals))\n",
    "print('\\n')\n",
    "GooglePlayStore_Vals = check_duplicates(DataGooglePlayStore[1:], 0) #We specify the range [1:] because we do not want to include header. An index of a column that contains information about a name of an application for the AppleStore dataset is 0.\n",
    "Unique_GooglePlayStore_Vals = list(GooglePlayStore_Vals[0])\n",
    "Duplicate_GooglePlayStore_Vals = list(GooglePlayStore_Vals[1])\n",
    "print('Number of unique applications in the GooglePlayStore dataset is: ', len(Unique_GooglePlayStore_Vals))\n",
    "print('Number of duplicate applications in the GooglePlayStore dataset is: ', len(Duplicate_GooglePlayStore_Vals))"
   ]
  },
  {
   "cell_type": "markdown",
   "id": "14d089aa",
   "metadata": {},
   "source": [
    "As you can see, the number of duplicate applications in the `Apple Store` dataset is 2 and the number of duplicate applications in the `Google Play Store` dataset is 1181, also the number of unique applications in the `Apple Store` dataset is 7195 and the number of unique applications in the `Google Play Store` dataset is 9659.\n",
    "\n",
    "We do not want to count certain applications more than once when we analyze data, so we need to remove the duplicate entries and keep only one entry per application.\n",
    "Let's explore duplicate values of the datasets to see if we can build a criterion that will allow us to remove duplicate values from the data sets in a more specific way. To do it, we will use the `explore_duplicates` function which takes a dataset, a list of duplicates and an index of a column which contains names of applications and after execution returns a list of lists contains rows of repeated applications."
   ]
  },
  {
   "cell_type": "code",
   "execution_count": 7,
   "id": "c64ce2e3",
   "metadata": {},
   "outputs": [
    {
     "name": "stdout",
     "output_type": "stream",
     "text": [
      "Duplicates of the \"Apple Store\" dataset:\n",
      "['1173990889', 'Mannequin Challenge', '109705216', 'USD', '0.0', '668', '87', '3.0', '3.0', '1.4', '9+', 'Games', '37', '4', '1', '1']\n",
      "\n",
      "\n",
      "['1178454060', 'Mannequin Challenge', '59572224', 'USD', '0.0', '105', '58', '4.0', '4.5', '1.0.1', '4+', 'Games', '38', '5', '1', '1']\n",
      "\n",
      "\n",
      "['952877179', 'VR Roller Coaster', '169523200', 'USD', '0.0', '107', '102', '3.5', '3.5', '2.0.0', '4+', 'Games', '37', '5', '1', '1']\n",
      "\n",
      "\n",
      "['1089824278', 'VR Roller Coaster', '240964608', 'USD', '0.0', '67', '44', '3.5', '4.0', '0.81', '4+', 'Games', '38', '0', '1', '1']\n",
      "\n",
      "\n",
      "Duplicates of the \"Google Play Store\" dataset:\n",
      "['Quick PDF Scanner + OCR FREE', 'BUSINESS', '4.2', '80805', 'Varies with device', '5,000,000+', 'Free', '0', 'Everyone', 'Business', 'February 26, 2018', 'Varies with device', '4.0.3 and up']\n",
      "\n",
      "\n",
      "['Quick PDF Scanner + OCR FREE', 'BUSINESS', '4.2', '80805', 'Varies with device', '5,000,000+', 'Free', '0', 'Everyone', 'Business', 'February 26, 2018', 'Varies with device', '4.0.3 and up']\n",
      "\n",
      "\n",
      "['Quick PDF Scanner + OCR FREE', 'BUSINESS', '4.2', '80804', 'Varies with device', '5,000,000+', 'Free', '0', 'Everyone', 'Business', 'February 26, 2018', 'Varies with device', '4.0.3 and up']\n",
      "\n",
      "\n"
     ]
    }
   ],
   "source": [
    "def explore_duplicates(dataset, duplicates_list, name_index):\n",
    "    list_of_duplicates = []\n",
    "    for value in duplicates_list:\n",
    "        for row in dataset:\n",
    "            if value == row[name_index]:\n",
    "                list_of_duplicates.append(row)\n",
    "    return list_of_duplicates\n",
    "Duplicates_DataAppleStore = explore_duplicates(DataAppleStore, Duplicate_AppleStore_Vals, 1)\n",
    "print('Duplicates of the \"Apple Store\" dataset:')\n",
    "explore_data(Duplicates_DataAppleStore, 0, 4)\n",
    "Duplicates_GooglePlayStore = explore_duplicates(DataGooglePlayStore, Duplicate_GooglePlayStore_Vals, 0)\n",
    "print('Duplicates of the \"Google Play Store\" dataset:')\n",
    "explore_data(Duplicates_GooglePlayStore, 0, 3)"
   ]
  },
  {
   "cell_type": "markdown",
   "id": "1878d185",
   "metadata": {},
   "source": [
    "After exploring the output of the `explore_duplicates` function we see that the main difference happens on a columns which correspond to the number of ratings/reviews (column five for the `Apple Store` market and column three for the `Google Play Store` market). Rather than removing duplicates randomly, we can use values that represent a number of reviews to build a criterion which in turn will allow us to sort duplicate values by the \"number of reviews/ratings\" column and keep the rows that have the highest number of reviews/ratings (the more reviews/ratings the row has, the more recent and reliable the data is).\n",
    "\n",
    "To do it we will use the `find_max_reviews` function that takes three arguments:\n",
    "1. `dataset` - a title of the passed dataset.\n",
    "2. `name_index` - an index of a column contains names of applications.\n",
    "3. `reviews_index` - an index of a column contains a number of reviews of applications.\n",
    "\n",
    "The `find_max_reviews` function returns a dictionary where each key is a unique application name and the corresponding value is the highest number of reviews of that application."
   ]
  },
  {
   "cell_type": "code",
   "execution_count": 8,
   "id": "d12bb28d",
   "metadata": {},
   "outputs": [],
   "source": [
    "def find_max_reviews(dataset, name_index, reviews_index):\n",
    "    reviews_max = {}\n",
    "    for row in dataset:\n",
    "        name = row[name_index]\n",
    "        n_reviews = float(row[reviews_index])\n",
    "        if name in reviews_max and reviews_max[name] < n_reviews:\n",
    "            reviews_max[name] = n_reviews\n",
    "        elif name not in reviews_max:\n",
    "            reviews_max[name] = n_reviews\n",
    "    return reviews_max\n",
    "Max_Reviews_AppleStore = find_max_reviews(DataAppleStore[1:], 1, 5) #We specify the range [1:] because we do not want to include header\n",
    "Max_Reviews_DataGooglePlayStore = find_max_reviews(DataGooglePlayStore[1:], 0, 3) #We specify the range [1:] because we do not want to include header"
   ]
  },
  {
   "cell_type": "markdown",
   "id": "48a2dcfa",
   "metadata": {},
   "source": [
    "To make sure everything went as expected, let's print a length of the `Max_Reviews_AppleStore` and `Max_Reviews_DataGooglePlayStore` dictionaries. As we remember, the number of unique applications in the `Apple Store` data set is 7195 and the number of unique applications in the `Google Play Store` data set is 9659, so the lengths of the `Max_Reviews_AppleStore` and `Max_Reviews_DataGooglePlayStore` dictionaries must be 7195 and 9659 accordingly."
   ]
  },
  {
   "cell_type": "code",
   "execution_count": 9,
   "id": "6a85550b",
   "metadata": {},
   "outputs": [
    {
     "name": "stdout",
     "output_type": "stream",
     "text": [
      "The lenght of the \"Max_Reviews_AppleStore\" data set is: 7195\n",
      "The lenght of the \"Max_Reviews_DataGooglePlayStore\" data set is: 9659\n"
     ]
    }
   ],
   "source": [
    "print('The lenght of the \\\"Max_Reviews_AppleStore\\\" data set is:', len(Max_Reviews_AppleStore))\n",
    "print('The lenght of the \\\"Max_Reviews_DataGooglePlayStore\\\" data set is:', len(Max_Reviews_DataGooglePlayStore))"
   ]
  },
  {
   "cell_type": "markdown",
   "id": "2df55622",
   "metadata": {},
   "source": [
    "As we can see, everything work as expected.\n",
    "\n",
    "Now, let's use the `Max_Reviews_AppleStore` and `Max_Reviews_DataGooglePlayStore` datasets to remove the duplicates.\n",
    "In the next block of code we reassemble data from the `Apple Store` and `Google Play Store` datasets in the next way: based on the \"highest number of reviews/ratings\" criterion we will loop through a list of unique applications from the datasets and leave the only ones that have the highest number of reviews.\n",
    "\n",
    "To do it we will use the `cleaning_data` function which does the following:\n",
    "1. Takes four arguments: `dataset` - a name of a given dataset, `name_index` - an index of a column contains names of applications, `reviews_index` - index of a column contains a number of reviews/ratings of the applications, `max_reviews_dict` - a title of the dictionaries from `step seven` where keys are unique applications names and values are the highest numbers of reviews of those applications.\n",
    "2. Loops through a given data set and for each row checks if the current number of reviews equal to a value from the `max_reviews_dict` for that application (which means that the current value of reviews is the maximum value) and a name of the application occurs in the loop for the first time.\n",
    "3. Returns the `data_cleaned` list."
   ]
  },
  {
   "cell_type": "code",
   "execution_count": 10,
   "id": "5c582911",
   "metadata": {},
   "outputs": [],
   "source": [
    "def cleaning_data(dataset, name_index, reviews_index, max_reviews_dict):\n",
    "    data_cleaned = []\n",
    "    already_added = []\n",
    "    for row in dataset:\n",
    "        name = row[name_index]\n",
    "        n_reviews = float(row[reviews_index])\n",
    "        if n_reviews == max_reviews_dict[name] and name not in already_added:\n",
    "            data_cleaned.append(row)\n",
    "            already_added.append(name)\n",
    "    return data_cleaned\n",
    "Cleaned_DataAppleStore = cleaning_data(DataAppleStore[1:], 1, 5, Max_Reviews_AppleStore)\n",
    "Cleaned_DataGooglePlayStore = cleaning_data(DataGooglePlayStore[1:], 0, 3, Max_Reviews_DataGooglePlayStore)"
   ]
  },
  {
   "cell_type": "markdown",
   "id": "cd8abb0b",
   "metadata": {},
   "source": [
    "Let's explore the `Cleaned_DataAppleStore` and `Cleaned_DataGooglePlayStore` datasets to ensure everything went as expected.\n",
    "To do it we will compare lengths of the `Cleaned_DataAppleStore`, `Cleaned_DataGooglePlayStore` and `Unique_AppleStore_vals`, `Unique_GooglePlayStore_vals` accordingly and if the values will be the same then in the first approximation the `cleaning_data` function works correctly."
   ]
  },
  {
   "cell_type": "code",
   "execution_count": 11,
   "id": "3247dcff",
   "metadata": {},
   "outputs": [
    {
     "name": "stdout",
     "output_type": "stream",
     "text": [
      "Lenght of \"Cleaned_DataAppleStore\" is equal to 7195, lenght of \"Unique_AppleStore_Vals\" is equal to 7195 so lenghts are identical.\n",
      "Lenght of \"Cleaned_DataGooglePlayStore\" is equal to 9659, lenght of \"Unique_GooglePlayStore_vals\" is equal to 9659 so lenghts are identical.\n"
     ]
    }
   ],
   "source": [
    "if len(Cleaned_DataAppleStore) == len(Unique_AppleStore_Vals):\n",
    "    print('Lenght of \"Cleaned_DataAppleStore\" is equal to ' + str(len(Cleaned_DataAppleStore)) + ', lenght of \"Unique_AppleStore_Vals\" is equal to ' + str(len(Unique_AppleStore_Vals)) + ' so lenghts are identical.')\n",
    "else:\n",
    "    print('Lenght of \"Cleaned_DataAppleStore\" is equal to ' + str(len(Cleaned_DataAppleStore)) + ', lenght of \"Unique_AppleStore_vals\" is equal to ' + str(len(Unique_AppleStore_Vals)) + ' so lenghts are not identical.')\n",
    "if len(Cleaned_DataGooglePlayStore) == len(Unique_GooglePlayStore_Vals):\n",
    "    print('Lenght of \"Cleaned_DataGooglePlayStore\" is equal to ' + str(len(Cleaned_DataGooglePlayStore)) + ', lenght of \"Unique_GooglePlayStore_vals\" is equal to ' + str(len(Unique_GooglePlayStore_Vals)) + ' so lenghts are identical.')\n",
    "else:\n",
    "    print('Lenght of \"Cleaned_DataGooglePlayStore\" is equal to ' + str(len(Cleaned_DataGooglePlayStore)) + ', lenght of \"Unique_GooglePlayStore_vals\" is equal to ' + str(len(Unique_GooglePlayStore_Vals)) + ' so lenghts are not identical.')"
   ]
  },
  {
   "cell_type": "markdown",
   "id": "77b6f8f2",
   "metadata": {},
   "source": [
    "Let's explore the `Cleaned_DataAppleStore` and `Cleaned_DataGooglePlayStore` lists more in-depth to finally make sure that the `cleaning_data` function worked correctly. \n",
    "\n",
    "To do it we will use the `verify_func` that takes three arguments: `raw_dataset` -  a title of a dataset that has not been reassembled based on the \"highest number of reviews/ratings\" criterion, `cleaned_dataset` - a title of a dataset that has been reassembled on the `ninth step`, `title` - a string what represents a title of an application. The function will loop through two given datasets and return only the rows in which the `Application` column equal to a string assigned to `title`."
   ]
  },
  {
   "cell_type": "code",
   "execution_count": 12,
   "id": "fe1d0b22",
   "metadata": {},
   "outputs": [
    {
     "name": "stdout",
     "output_type": "stream",
     "text": [
      "['Instagram', 'SOCIAL', '4.5', '66577313', 'Varies with device', '1,000,000,000+', 'Free', '0', 'Teen', 'Social', 'July 31, 2018', 'Varies with device', 'Varies with device']\n",
      "\n",
      "\n",
      "['Instagram', 'SOCIAL', '4.5', '66577446', 'Varies with device', '1,000,000,000+', 'Free', '0', 'Teen', 'Social', 'July 31, 2018', 'Varies with device', 'Varies with device']\n",
      "\n",
      "\n",
      "['Instagram', 'SOCIAL', '4.5', '66577313', 'Varies with device', '1,000,000,000+', 'Free', '0', 'Teen', 'Social', 'July 31, 2018', 'Varies with device', 'Varies with device']\n",
      "\n",
      "\n",
      "['Instagram', 'SOCIAL', '4.5', '66509917', 'Varies with device', '1,000,000,000+', 'Free', '0', 'Teen', 'Social', 'July 31, 2018', 'Varies with device', 'Varies with device']\n",
      "\n",
      "\n",
      "Number of rows: 4\n",
      "Number of columns: 13\n",
      "\n",
      "\n",
      "['Instagram', 'SOCIAL', '4.5', '66577446', 'Varies with device', '1,000,000,000+', 'Free', '0', 'Teen', 'Social', 'July 31, 2018', 'Varies with device', 'Varies with device']\n",
      "\n",
      "\n",
      "Number of rows: 1\n",
      "Number of columns: 13\n",
      "\n",
      "\n"
     ]
    }
   ],
   "source": [
    "def verify_func(raw_dataset, cleaned_dataset, title):\n",
    "    raw_data_dict = []\n",
    "    cleaned_data_dict = []\n",
    "    for row in raw_dataset:\n",
    "        name = row[0]\n",
    "        if name == title:\n",
    "            raw_data_dict.append(row)\n",
    "    for row in cleaned_dataset:\n",
    "        name = row[0]\n",
    "        if name == title:\n",
    "            cleaned_data_dict.append(row)\n",
    "    return raw_data_dict, cleaned_data_dict\n",
    "\n",
    "Verified_Result = verify_func(DataGooglePlayStore[1:], Cleaned_DataGooglePlayStore, 'Instagram')\n",
    "Verified_DataGooglePlayStore = Verified_Result[0]\n",
    "Verified_Cleaned_DataGooglePlayStore = Verified_Result[1]\n",
    "\n",
    "explore_data(Verified_DataGooglePlayStore, 0, 5, True)\n",
    "explore_data(Verified_Cleaned_DataGooglePlayStore, 0, 1, True)"
   ]
  },
  {
   "cell_type": "markdown",
   "id": "6671aeda",
   "metadata": {},
   "source": [
    "As we can see in the block of code above, the `Google Play Store` dataset which contains \"raw\" data has four rows in which the number of reviews varies from 66509917 to 66577446. After using the `cleaning_data` function we have the `Cleaned_DataGooglePlayStore` list which contains only one row in which a number of reviews/ratings is a maximal value from the ones we have in the `Google Play Store` dataset. Based on these results, we can make a conclusion that the first stage of cleaning data executed correctly."
   ]
  },
  {
   "cell_type": "markdown",
   "id": "8f5c4cbc",
   "metadata": {},
   "source": [
    "### Removing non-English applications\n",
    "If we explore the datasets further, we will notice what the names of some of the applications consist of non-English characters.\n",
    "Our next step of cleaning the data will be removing such applications.\n",
    "In the next step, we will write a function which takes a string and return `False` if the string has more then three non-English characters. To check if a string has non-English characters we will use a build-in function `ord` which returns corresponding encoding ASCII number of each character and we know what characters that are specific to English texts lie between 0 and 127."
   ]
  },
  {
   "cell_type": "code",
   "execution_count": 13,
   "id": "b6eeb42a",
   "metadata": {},
   "outputs": [],
   "source": [
    "def check_characters(string):\n",
    "    non_Eng_counter = 0\n",
    "    for character in string:\n",
    "        if ord(character) > 127:\n",
    "            non_Eng_counter += 1\n",
    "    if non_Eng_counter > 3:\n",
    "        return False\n",
    "    return True"
   ]
  },
  {
   "cell_type": "markdown",
   "id": "f2869a0d",
   "metadata": {},
   "source": [
    "To check whether the function is working correctly let's pass as an argument strings which have non-English characters."
   ]
  },
  {
   "cell_type": "code",
   "execution_count": 14,
   "id": "feb03ae8",
   "metadata": {},
   "outputs": [
    {
     "name": "stdout",
     "output_type": "stream",
     "text": [
      "True\n",
      "False\n",
      "True\n",
      "True\n"
     ]
    }
   ],
   "source": [
    "string_1 = 'Instagram'\n",
    "string_2 = '爱奇艺PPS -《欢乐颂2》电视剧热播'\n",
    "string_3 = 'Docs To Go™ Free Office Suite'\n",
    "string_4 = 'Instachat 😜'\n",
    "print(check_characters(string_1))\n",
    "print(check_characters(string_2))\n",
    "print(check_characters(string_3))\n",
    "print(check_characters(string_4))"
   ]
  },
  {
   "cell_type": "markdown",
   "id": "64509767",
   "metadata": {},
   "source": [
    "At the first glance, it seems what the function works correctly, but if we explore the data sets a little longer we will notice what titles of some applications contain emoji or other symbols (™, — (em dash), – (en dash), etc.) that fall outside of the ASCII range. Let's solve this problem.\n",
    "In the next block of code, we write the `non_Eng_cleaning_data` function which takes a dataset and leaves in it only those rows in which a name of an application does not have more than three non-English characters. To ensure everything works as expected, let's pass to the `non_Eng_cleaning_data` a test case dataset that looks like this `[[1, 'Instagram'], [2, '爱奇艺PPS -《欢乐颂2》电视剧热播'], [3, 'Docs To Go™ Free Office Suite'], [4, 'Instachat 😜']]`. We expect that the `non_Eng_cleaning_data` function will return the data set like this `[[1, 'Instagram'], [3, 'Docs To Go™ Free Office Suite'], [4, 'Instachat 😜']]` (without the second list)."
   ]
  },
  {
   "cell_type": "code",
   "execution_count": 15,
   "id": "1da371e3",
   "metadata": {},
   "outputs": [
    {
     "name": "stdout",
     "output_type": "stream",
     "text": [
      "[[1, 'Instagram'], [3, 'Docs To Go™ Free Office Suite'], [4, 'Instachat 😜']]\n"
     ]
    }
   ],
   "source": [
    "def non_Eng_cleaning_data(dataset, name_index, check_func):\n",
    "    cleaned_list = []\n",
    "    for row in dataset:\n",
    "        if check_func(row[name_index]):\n",
    "            cleaned_list.append(row)\n",
    "    return cleaned_list\n",
    "test_dataset = [[1, 'Instagram'], [2, '爱奇艺PPS -《欢乐颂2》电视剧热播'], [3, 'Docs To Go™ Free Office Suite'], [4, 'Instachat 😜']]\n",
    "the_result = non_Eng_cleaning_data(test_dataset, 1, check_characters)\n",
    "print(the_result)"
   ]
  },
  {
   "cell_type": "markdown",
   "id": "72fa5e3f",
   "metadata": {},
   "source": [
    "As we can see above, everything went as expected.\n",
    "\n",
    "Let's apply the `non_Eng_cleaning_data` function to the `Cleaned_DataAppleStore` and `Cleaned_DataGooglePlayStore` lists after that compare lenghts of the `Cleaned_DataAppleStore` and `Cleaned_DataGooglePlayStore` lists before and after usage the `non_Eng_cleaning_data` function."
   ]
  },
  {
   "cell_type": "code",
   "execution_count": 16,
   "id": "02ea873c",
   "metadata": {},
   "outputs": [
    {
     "name": "stdout",
     "output_type": "stream",
     "text": [
      "A lenght of the \"Cleaned_DataAppleStore\" is 7195\n",
      "A lenght of the \"Cleaned_nonEng_DataAppleStore\" is 6181\n",
      "A number of applications contain non-English characters in the names for \"Cleaned_DataAppleStore\" is: 1014\n",
      "\n",
      "\n",
      "A lenght of the \"Cleaned_DataGooglePlayStore\" is 9659\n",
      "A lenght of the \"Cleaned_nonEng_DataGooglePlayStore\" is 9614\n",
      "A number of applications contain non-English characters in the names for \"Cleaned_DataGooglePlayStore\" is: 45\n"
     ]
    }
   ],
   "source": [
    "Cleaned_nonEng_DataAppleStore = non_Eng_cleaning_data(Cleaned_DataAppleStore, 1, check_characters)\n",
    "print('A lenght of the \"Cleaned_DataAppleStore\" is ' + str(len(Cleaned_DataAppleStore)))\n",
    "print('A lenght of the \"Cleaned_nonEng_DataAppleStore\" is ' + str(len(Cleaned_nonEng_DataAppleStore)))\n",
    "NonEngapp_DataAppleStore_lenght = len(Cleaned_DataAppleStore) - len(Cleaned_nonEng_DataAppleStore)\n",
    "print('A number of applications contain non-English characters in the names for \"Cleaned_DataAppleStore\" is: ' + str(NonEngapp_DataAppleStore_lenght))\n",
    "print('\\n')\n",
    "Cleaned_nonEng_DataGooglePlayStore = non_Eng_cleaning_data(Cleaned_DataGooglePlayStore, 0, check_characters)\n",
    "print('A lenght of the \"Cleaned_DataGooglePlayStore\" is ' + str(len(Cleaned_DataGooglePlayStore)))\n",
    "print('A lenght of the \"Cleaned_nonEng_DataGooglePlayStore\" is ' + str(len(Cleaned_nonEng_DataGooglePlayStore)))\n",
    "NonEngapp_DataGooglePlayStore_lenght = len(Cleaned_DataGooglePlayStore) - len(Cleaned_nonEng_DataGooglePlayStore)\n",
    "print('A number of applications contain non-English characters in the names for \"Cleaned_DataGooglePlayStore\" is: ' + str(NonEngapp_DataGooglePlayStore_lenght))"
   ]
  },
  {
   "cell_type": "markdown",
   "id": "aced5543",
   "metadata": {},
   "source": [
    "### Isolating the free applications\n",
    "As we mentioned in the introduction, our company only builds applications that are free to download and install. At this point, our datasets contain both free and non-free applications. Our next step will be isolating the free applications. If we will exlore `price` column of the `Google Play Store` we will see, what some values of the column contain `$` character. To isolate  free applications we will need to make a comparison with zero by converting the string value of the price to float using the built-in function `float`. The problem is the `float` function throws an error if we pass it a character that can not be converted in float format such as `$`. To solve the problem, we will use slicing to remove `$` characters from prices."
   ]
  },
  {
   "cell_type": "code",
   "execution_count": 17,
   "id": "7c21a770",
   "metadata": {},
   "outputs": [
    {
     "name": "stdout",
     "output_type": "stream",
     "text": [
      "A number of free applications in the \"Apple Store\" dataset is: 3220\n",
      "A number of free applications in the \"Google Play Store\" dataset is: 8868\n"
     ]
    }
   ],
   "source": [
    "def is_free_func(a_dataset, price_index):\n",
    "    free_apps = []\n",
    "    for row in a_dataset:\n",
    "        app_price = row[price_index][-4:]\n",
    "        if float(app_price) == 0.0:\n",
    "            free_apps.append(row)\n",
    "    return free_apps\n",
    "Free_Cleaned_DataAppleStore = is_free_func(Cleaned_nonEng_DataAppleStore, 4)\n",
    "print('A number of free applications in the \"Apple Store\" dataset is: ' + str(len(Free_Cleaned_DataAppleStore)))\n",
    "Free_Cleaned_DataGooglePlayStore = is_free_func(Cleaned_nonEng_DataGooglePlayStore, 7)\n",
    "print('A number of free applications in the \"Google Play Store\" dataset is: ' + str(len(Free_Cleaned_DataGooglePlayStore)))"
   ]
  },
  {
   "cell_type": "markdown",
   "id": "44552f78",
   "metadata": {},
   "source": [
    "### Most common applications by genre\n",
    "As we mentioned earlier, our aim is to determine the kinds of applications that are likely to attract more users because our revenue is highly influenced by the number of people using our application.\n",
    "\n",
    "To minimize risks, our validation strategy for an application idea is comprised of three steps:\n",
    "1. Build a minimal Android version of the application, and add it to the `Google Play`.\n",
    "2. If the application has a good response from users, we develop it further.\n",
    "3. If the application is profitable after six months, we build an iOS version of the application and add it to the `Apple Store`.\n",
    "\n",
    "Because our end goal is to add the application on both `Google Play` and `Apple Store` merkets, we need to find application profiles that are successful on both markets. To do it let's inspect both data sets and identify columns we can use to make the conclusion. Let's start by determining the most popular genres of the applications for both markets.\n",
    "\n",
    "Let's begin the analysis by getting a sense of the most common genres for each market.\n",
    "First of all, we have to identify the columns having information about genre for both data sets."
   ]
  },
  {
   "cell_type": "code",
   "execution_count": 18,
   "id": "10e48301",
   "metadata": {
    "scrolled": true
   },
   "outputs": [
    {
     "name": "stdout",
     "output_type": "stream",
     "text": [
      "['id', 'track_name', 'size_bytes', 'currency', 'price', 'rating_count_tot', 'rating_count_ver', 'user_rating', 'user_rating_ver', 'ver', 'cont_rating', 'prime_genre', 'sup_devices.num', 'ipadSc_urls.num', 'lang.num', 'vpp_lic']\n",
      "\n",
      "\n",
      "['App', 'Category', 'Rating', 'Reviews', 'Size', 'Installs', 'Type', 'Price', 'Content Rating', 'Genres', 'Last Updated', 'Current Ver', 'Android Ver']\n",
      "\n",
      "\n"
     ]
    }
   ],
   "source": [
    "explore_data(DataAppleStore[0:], 0, 1)\n",
    "explore_data(DataGooglePlayStore[0:], 0, 1)"
   ]
  },
  {
   "cell_type": "markdown",
   "id": "dc35f7da",
   "metadata": {},
   "source": [
    "As we can see above, for the `Apple Store` dataset, a column having information about the genre is the `prime_genre` which has an index equal to `11` and for the `Google Play Store` it is the `Category` and `Genres` columns which have indexes equal to `1` and `9`, respectively.\n",
    "\n",
    "Our next step will be creating frequency tables for the genres columns. To do it we will write two functions:\n",
    "1. The `freq_table` function generates frequency tables that show percentages of the most popular genres. The function takes two arguments:\n",
    "   * `dataset` -  a title of the passed dataset.\n",
    "   * `genre_index` - an index of the dataset containing information about of an application depending on the criterion of interest, in our case it will be `genre`."
   ]
  },
  {
   "cell_type": "code",
   "execution_count": 19,
   "id": "3c8ef5b8",
   "metadata": {},
   "outputs": [],
   "source": [
    "def freq_table(dataset, genre_index):\n",
    "    total_numb_apps = len(dataset)\n",
    "    freq_table = {}\n",
    "    for row in dataset:\n",
    "        genre = row[genre_index]\n",
    "        if genre in freq_table:\n",
    "            freq_table[genre] += 1\n",
    "        else:\n",
    "            freq_table[genre] = 1\n",
    "    for key in freq_table:\n",
    "        freq_table[key] = round((freq_table[key] / total_numb_apps) * 100, 2)\n",
    "    return freq_table"
   ]
  },
  {
   "cell_type": "markdown",
   "id": "f9aa6649",
   "metadata": {},
   "source": [
    "2. The `display_table` function displays the percentages in descending order. As we know, dictionaries do not have order, and it will be very difficult to analyze the frequency tables. For this reason, we have to write a function that can help us display the entries in the frequency table in descending order. To do that, we'll use the built-in `sorted` function, however, function `sorted` does not work too well with dictionaries because it only considers and returns the dictionary keys. To solve the problem, we have to transform the dictionary into a list of tuples, where each tuple contains a dictionary key along with its corresponding dictionary value. To ensure the sorting works right, the dictionary value comes first, and the dictionary key comes second."
   ]
  },
  {
   "cell_type": "code",
   "execution_count": 20,
   "id": "6cd54909",
   "metadata": {},
   "outputs": [],
   "source": [
    "def display_table(freq_table):\n",
    "    table = freq_table\n",
    "    table_to_display = []\n",
    "    for key in table:\n",
    "        key_val_as_tuple = (table[key], key)\n",
    "        table_to_display.append(key_val_as_tuple)\n",
    "    table_sorted = sorted(table_to_display, reverse = True)\n",
    "    for entry in table_sorted:\n",
    "        print(entry[1], ':', entry[0], '%')\n"
   ]
  },
  {
   "cell_type": "markdown",
   "id": "d32cf44a",
   "metadata": {},
   "source": [
    "Now, let's examine the frequency table for the `prime_genre` column of the `App Store` dataset."
   ]
  },
  {
   "cell_type": "code",
   "execution_count": 21,
   "id": "1faf5bef",
   "metadata": {},
   "outputs": [
    {
     "name": "stdout",
     "output_type": "stream",
     "text": [
      "Games : 58.14 %\n",
      "Entertainment : 7.89 %\n",
      "Photo & Video : 4.97 %\n",
      "Education : 3.66 %\n",
      "Social Networking : 3.29 %\n",
      "Shopping : 2.61 %\n",
      "Utilities : 2.52 %\n",
      "Sports : 2.14 %\n",
      "Music : 2.05 %\n",
      "Health & Fitness : 2.02 %\n",
      "Productivity : 1.74 %\n",
      "Lifestyle : 1.58 %\n",
      "News : 1.34 %\n",
      "Travel : 1.24 %\n",
      "Finance : 1.12 %\n",
      "Weather : 0.87 %\n",
      "Food & Drink : 0.81 %\n",
      "Reference : 0.56 %\n",
      "Business : 0.53 %\n",
      "Book : 0.43 %\n",
      "Navigation : 0.19 %\n",
      "Medical : 0.19 %\n",
      "Catalogs : 0.12 %\n"
     ]
    }
   ],
   "source": [
    "Common_Genres_DataAppleStore = freq_table(Free_Cleaned_DataAppleStore, 11)\n",
    "display_table(Common_Genres_DataAppleStore)"
   ]
  },
  {
   "cell_type": "markdown",
   "id": "cf963f0e",
   "metadata": {},
   "source": [
    "As we can see above, the most common genre among free English-speaking applications is games - 58.14% of the total number. Entertainment and Photo & Video applications in the second and third place - 7.89% and 4.97%, respectively, Education is on the fourth-place - 3.66%. Based on this information, we can draw a conclusion what `Apple Store` is dominated by applications that are designed for fun, while applications with practical purposes (education, shopping, utilities, productivity, lifestyle, etc.) are rarer. However, the fact that fun applications are the most numerous does not also imply that they also have the greatest number of users.\n",
    "\n",
    "Let's continue by exploring the `Category` and `Genres` columns of the `Google Play Store` data set."
   ]
  },
  {
   "cell_type": "code",
   "execution_count": 22,
   "id": "1d1ceddd",
   "metadata": {
    "scrolled": true
   },
   "outputs": [
    {
     "name": "stdout",
     "output_type": "stream",
     "text": [
      "FAMILY : 18.91 %\n",
      "GAME : 9.72 %\n",
      "TOOLS : 8.46 %\n",
      "BUSINESS : 4.59 %\n",
      "LIFESTYLE : 3.91 %\n",
      "PRODUCTIVITY : 3.89 %\n",
      "FINANCE : 3.7 %\n",
      "MEDICAL : 3.55 %\n",
      "SPORTS : 3.39 %\n",
      "PERSONALIZATION : 3.32 %\n",
      "COMMUNICATION : 3.24 %\n",
      "HEALTH_AND_FITNESS : 3.08 %\n",
      "PHOTOGRAPHY : 2.94 %\n",
      "NEWS_AND_MAGAZINES : 2.8 %\n",
      "SOCIAL : 2.66 %\n",
      "TRAVEL_AND_LOCAL : 2.33 %\n",
      "SHOPPING : 2.24 %\n",
      "BOOKS_AND_REFERENCE : 2.14 %\n",
      "DATING : 1.86 %\n",
      "VIDEO_PLAYERS : 1.79 %\n",
      "MAPS_AND_NAVIGATION : 1.4 %\n",
      "FOOD_AND_DRINK : 1.24 %\n",
      "EDUCATION : 1.16 %\n",
      "ENTERTAINMENT : 0.96 %\n",
      "LIBRARIES_AND_DEMO : 0.94 %\n",
      "AUTO_AND_VEHICLES : 0.92 %\n",
      "HOUSE_AND_HOME : 0.82 %\n",
      "WEATHER : 0.8 %\n",
      "EVENTS : 0.71 %\n",
      "PARENTING : 0.65 %\n",
      "ART_AND_DESIGN : 0.64 %\n",
      "COMICS : 0.62 %\n",
      "BEAUTY : 0.6 %\n"
     ]
    }
   ],
   "source": [
    "Common_Categories_DataGooglePlayStore = freq_table(Free_Cleaned_DataGooglePlayStore, 1)\n",
    "display_table(Common_Categories_DataGooglePlayStore) #Category"
   ]
  },
  {
   "cell_type": "markdown",
   "id": "d052f614",
   "metadata": {},
   "source": [
    "As we can see, the most popular categories of the `Google Play Store` market is different from the one we see in the `Apple Store`. On the first positions applications, designed for practical purposes: family, tools, business, etc.\n",
    "\n",
    "The next step will be exploring `Genres` columns of the `Google Play Store` data set."
   ]
  },
  {
   "cell_type": "code",
   "execution_count": 23,
   "id": "dec12dd8",
   "metadata": {},
   "outputs": [
    {
     "name": "stdout",
     "output_type": "stream",
     "text": [
      "Tools : 8.45 %\n",
      "Entertainment : 6.07 %\n",
      "Education : 5.36 %\n",
      "Business : 4.59 %\n",
      "Lifestyle : 3.9 %\n",
      "Productivity : 3.89 %\n",
      "Finance : 3.7 %\n",
      "Medical : 3.55 %\n",
      "Sports : 3.46 %\n",
      "Personalization : 3.32 %\n",
      "Communication : 3.24 %\n",
      "Action : 3.1 %\n",
      "Health & Fitness : 3.08 %\n",
      "Photography : 2.94 %\n",
      "News & Magazines : 2.8 %\n",
      "Social : 2.66 %\n",
      "Travel & Local : 2.32 %\n",
      "Shopping : 2.24 %\n",
      "Books & Reference : 2.14 %\n",
      "Simulation : 2.04 %\n",
      "Dating : 1.86 %\n",
      "Arcade : 1.85 %\n",
      "Video Players & Editors : 1.77 %\n",
      "Casual : 1.76 %\n",
      "Maps & Navigation : 1.4 %\n",
      "Food & Drink : 1.24 %\n",
      "Puzzle : 1.13 %\n",
      "Racing : 0.99 %\n",
      "Role Playing : 0.94 %\n",
      "Libraries & Demo : 0.94 %\n",
      "Auto & Vehicles : 0.92 %\n",
      "Strategy : 0.91 %\n",
      "House & Home : 0.82 %\n",
      "Weather : 0.8 %\n",
      "Events : 0.71 %\n",
      "Adventure : 0.68 %\n",
      "Comics : 0.61 %\n",
      "Beauty : 0.6 %\n",
      "Art & Design : 0.6 %\n",
      "Parenting : 0.5 %\n",
      "Card : 0.45 %\n",
      "Casino : 0.43 %\n",
      "Trivia : 0.42 %\n",
      "Educational;Education : 0.39 %\n",
      "Board : 0.38 %\n",
      "Educational : 0.37 %\n",
      "Education;Education : 0.34 %\n",
      "Word : 0.26 %\n",
      "Casual;Pretend Play : 0.24 %\n",
      "Music : 0.2 %\n",
      "Racing;Action & Adventure : 0.17 %\n",
      "Puzzle;Brain Games : 0.17 %\n",
      "Entertainment;Music & Video : 0.17 %\n",
      "Casual;Brain Games : 0.14 %\n",
      "Casual;Action & Adventure : 0.14 %\n",
      "Arcade;Action & Adventure : 0.12 %\n",
      "Action;Action & Adventure : 0.1 %\n",
      "Educational;Pretend Play : 0.09 %\n",
      "Simulation;Action & Adventure : 0.08 %\n",
      "Parenting;Education : 0.08 %\n",
      "Entertainment;Brain Games : 0.08 %\n",
      "Board;Brain Games : 0.08 %\n",
      "Parenting;Music & Video : 0.07 %\n",
      "Educational;Brain Games : 0.07 %\n",
      "Casual;Creativity : 0.07 %\n",
      "Art & Design;Creativity : 0.07 %\n",
      "Education;Pretend Play : 0.06 %\n",
      "Role Playing;Pretend Play : 0.05 %\n",
      "Education;Creativity : 0.05 %\n",
      "Role Playing;Action & Adventure : 0.03 %\n",
      "Puzzle;Action & Adventure : 0.03 %\n",
      "Entertainment;Creativity : 0.03 %\n",
      "Entertainment;Action & Adventure : 0.03 %\n",
      "Educational;Creativity : 0.03 %\n",
      "Educational;Action & Adventure : 0.03 %\n",
      "Education;Music & Video : 0.03 %\n",
      "Education;Brain Games : 0.03 %\n",
      "Education;Action & Adventure : 0.03 %\n",
      "Adventure;Action & Adventure : 0.03 %\n",
      "Video Players & Editors;Music & Video : 0.02 %\n",
      "Sports;Action & Adventure : 0.02 %\n",
      "Simulation;Pretend Play : 0.02 %\n",
      "Puzzle;Creativity : 0.02 %\n",
      "Music;Music & Video : 0.02 %\n",
      "Entertainment;Pretend Play : 0.02 %\n",
      "Casual;Education : 0.02 %\n",
      "Board;Action & Adventure : 0.02 %\n",
      "Video Players & Editors;Creativity : 0.01 %\n",
      "Trivia;Education : 0.01 %\n",
      "Travel & Local;Action & Adventure : 0.01 %\n",
      "Tools;Education : 0.01 %\n",
      "Strategy;Education : 0.01 %\n",
      "Strategy;Creativity : 0.01 %\n",
      "Strategy;Action & Adventure : 0.01 %\n",
      "Simulation;Education : 0.01 %\n",
      "Role Playing;Brain Games : 0.01 %\n",
      "Racing;Pretend Play : 0.01 %\n",
      "Puzzle;Education : 0.01 %\n",
      "Parenting;Brain Games : 0.01 %\n",
      "Music & Audio;Music & Video : 0.01 %\n",
      "Lifestyle;Pretend Play : 0.01 %\n",
      "Lifestyle;Education : 0.01 %\n",
      "Health & Fitness;Education : 0.01 %\n",
      "Health & Fitness;Action & Adventure : 0.01 %\n",
      "Entertainment;Education : 0.01 %\n",
      "Communication;Creativity : 0.01 %\n",
      "Comics;Creativity : 0.01 %\n",
      "Casual;Music & Video : 0.01 %\n",
      "Card;Action & Adventure : 0.01 %\n",
      "Books & Reference;Education : 0.01 %\n",
      "Art & Design;Pretend Play : 0.01 %\n",
      "Art & Design;Action & Adventure : 0.01 %\n",
      "Arcade;Pretend Play : 0.01 %\n",
      "Adventure;Education : 0.01 %\n"
     ]
    }
   ],
   "source": [
    "Common_Genres_DataGooglePlayStore = freq_table(Free_Cleaned_DataGooglePlayStore, 9)\n",
    "display_table(Common_Genres_DataGooglePlayStore) #Genre"
   ]
  },
  {
   "cell_type": "markdown",
   "id": "725301cb",
   "metadata": {},
   "source": [
    "We can tell, what the most common applications of the markets differ from each other: on `Apple Store` market, it is applications created for entertainment such as games, social media, etc. while on the `Google Play Store` it is applications designed for practical purposes: tools, education, business, etc.\n",
    "\n",
    "### Most popular applications by genre\n",
    "Based on the received information, we still can not recommend a profitable application for the markets. Now we would like to get an idea about the kind of applications that have the most users. The criterion that characterizes a number of users can be amount of installs. In the `Google Play Store` data set there is the `Installs` column, but in the `Apple Store` data set there are no columns that represent the number of installs, instead, we can use the `rating_count_tot` column (the more number of ratings the more times the applications were installed).\n",
    "\n",
    "### Apple Store\n",
    "\n",
    "To get a number of reviews of the `Apple Store` applications by genre we will use the `vals_per_criterion` function. The function takes a frequency table, a dataset, a genre index and an installs index, after that for each key (which is a main genre of the application) in the frequency table compute an average number of ratings/installs for the applications whose genre matches with the key."
   ]
  },
  {
   "cell_type": "code",
   "execution_count": 24,
   "id": "7d9166fb",
   "metadata": {
    "scrolled": true
   },
   "outputs": [
    {
     "name": "stdout",
     "output_type": "stream",
     "text": [
      "Social Networking : 71548.35 ratings\n",
      "Photo & Video : 28441.54 ratings\n",
      "Games : 22812.92 ratings\n",
      "Music : 57326.53 ratings\n",
      "Reference : 74942.11 ratings\n",
      "Health & Fitness : 23298.02 ratings\n",
      "Weather : 52279.89 ratings\n",
      "Utilities : 18684.46 ratings\n",
      "Travel : 28243.8 ratings\n",
      "Shopping : 26919.69 ratings\n",
      "News : 21248.02 ratings\n",
      "Navigation : 86090.33 ratings\n",
      "Lifestyle : 16485.76 ratings\n",
      "Entertainment : 14029.83 ratings\n",
      "Food & Drink : 33333.92 ratings\n",
      "Sports : 23008.9 ratings\n",
      "Book : 39758.5 ratings\n",
      "Finance : 31467.94 ratings\n",
      "Education : 7003.98 ratings\n",
      "Productivity : 21028.41 ratings\n",
      "Business : 7491.12 ratings\n",
      "Catalogs : 4004.0 ratings\n",
      "Medical : 612.0 ratings\n"
     ]
    }
   ],
   "source": [
    "def reviews_by_genre(freq_table, dataset, genre_index, installs_index, remove_characters = False, is_applestore = True):\n",
    "    reviews_by_genre_vals = {}\n",
    "    for key in freq_table:\n",
    "        total = 0\n",
    "        len_genre = 0\n",
    "        for app in dataset:\n",
    "            genre_app = app[genre_index]\n",
    "            if genre_app == key:\n",
    "                installs = app[installs_index]\n",
    "                if remove_characters:\n",
    "                    installs = installs.replace('+','')\n",
    "                    installs = installs.replace(',','')\n",
    "                installs = float(installs)\n",
    "                total += installs\n",
    "                len_genre += 1\n",
    "        avg_rating = round(total/len_genre, 2)\n",
    "        reviews_by_genre_vals[key] = avg_rating\n",
    "    if is_applestore:\n",
    "        for key in reviews_by_genre_vals:\n",
    "            print(key, ':', reviews_by_genre_vals[key],'ratings')\n",
    "    else:\n",
    "        for key in reviews_by_genre_vals:\n",
    "            print(key, ':', reviews_by_genre_vals[key],'installs')\n",
    "    return reviews_by_genre_vals\n",
    "Ratings_Per_Genre_DataAppleStore = reviews_by_genre(Common_Genres_DataAppleStore, Free_Cleaned_DataAppleStore, 11, 5)"
   ]
  },
  {
   "cell_type": "markdown",
   "id": "809096ee",
   "metadata": {},
   "source": [
    "To simplify the analysis, we will arrange the output in descending order using the `descending_order` function."
   ]
  },
  {
   "cell_type": "code",
   "execution_count": 25,
   "id": "09afd726",
   "metadata": {},
   "outputs": [
    {
     "name": "stdout",
     "output_type": "stream",
     "text": [
      "Navigation : 86090.33 ratings\n",
      "Reference : 74942.11 ratings\n",
      "Social Networking : 71548.35 ratings\n",
      "Music : 57326.53 ratings\n",
      "Weather : 52279.89 ratings\n",
      "Book : 39758.5 ratings\n",
      "Food & Drink : 33333.92 ratings\n",
      "Finance : 31467.94 ratings\n",
      "Photo & Video : 28441.54 ratings\n",
      "Travel : 28243.8 ratings\n",
      "Shopping : 26919.69 ratings\n",
      "Health & Fitness : 23298.02 ratings\n",
      "Sports : 23008.9 ratings\n",
      "Games : 22812.92 ratings\n",
      "News : 21248.02 ratings\n",
      "Productivity : 21028.41 ratings\n",
      "Utilities : 18684.46 ratings\n",
      "Lifestyle : 16485.76 ratings\n",
      "Entertainment : 14029.83 ratings\n",
      "Business : 7491.12 ratings\n",
      "Education : 7003.98 ratings\n",
      "Catalogs : 4004.0 ratings\n",
      "Medical : 612.0 ratings\n"
     ]
    }
   ],
   "source": [
    "def descending_order(freq_table, applestore=False):\n",
    "    table_to_display = []\n",
    "    for key in freq_table:\n",
    "        key_val_as_tuple = (freq_table[key], key)\n",
    "        table_to_display.append(key_val_as_tuple)\n",
    "    table_sorted = sorted(table_to_display, reverse = True)\n",
    "    if applestore:\n",
    "        for entry in table_sorted:\n",
    "            print(entry[1], ':', entry[0], 'ratings')\n",
    "    else: \n",
    "        for entry in table_sorted:\n",
    "            print(entry[1], ':', entry[0], 'installs')\n",
    "    return table_sorted\n",
    "Ratings_Per_Genre_DataAppleStore_Desc = descending_order(Ratings_Per_Genre_DataAppleStore, True)"
   ]
  },
  {
   "cell_type": "markdown",
   "id": "de3f0a62",
   "metadata": {},
   "source": [
    "As we can see, for the `Apple Store` market the highest number of ratings have applications whose main genre is navigation, reference and social networking. Let's explore which applications are related to these genres. To do it, we will use the `print_names_by_genre` function, which takes a dataset and print a title and a number of ratings of the application whose genre matches with a genre that passed to the function as an argument."
   ]
  },
  {
   "cell_type": "code",
   "execution_count": 26,
   "id": "b4054ff8",
   "metadata": {},
   "outputs": [],
   "source": [
    "def print_installs_by_genre(dataset, prime_genre_index, genre, name_index, installs_index, applestore=False):\n",
    "    for app in dataset:\n",
    "        if app[prime_genre_index] == genre:\n",
    "            if applestore:\n",
    "                print(app[name_index], ':', app[installs_index], ' ratings')\n",
    "            else: \n",
    "                print(app[name_index], ':', app[installs_index], ' installs')"
   ]
  },
  {
   "cell_type": "markdown",
   "id": "cdbdc034",
   "metadata": {},
   "source": [
    "We start with analyzing applications which genre is navigation."
   ]
  },
  {
   "cell_type": "code",
   "execution_count": 27,
   "id": "9bae482a",
   "metadata": {
    "scrolled": true
   },
   "outputs": [
    {
     "name": "stdout",
     "output_type": "stream",
     "text": [
      "Waze - GPS Navigation, Maps & Real-time Traffic : 345046  ratings\n",
      "Google Maps - Navigation & Transit : 154911  ratings\n",
      "Geocaching® : 12811  ratings\n",
      "CoPilot GPS – Car Navigation & Offline Maps : 3582  ratings\n",
      "ImmobilienScout24: Real Estate Search in Germany : 187  ratings\n",
      "Railway Route Search : 5  ratings\n"
     ]
    }
   ],
   "source": [
    "print_installs_by_genre(Free_Cleaned_DataAppleStore, 11, 'Navigation', 1, 5, True)"
   ]
  },
  {
   "cell_type": "markdown",
   "id": "97d1ed38",
   "metadata": {},
   "source": [
    "As we can see, the largest number of reviews for applications of this genre relate to two applications: `Waze - GPS Navigation, Maps & Real-time Traffic` and `Google Maps` while the rest of the applications have few ratings relatively. This distribution of ratings may testify that the demand for this kind of applications is probably satisfied. Based on this, there is no point in making an application of this type due to the high competition, complexity and cost of development.\n",
    "\n",
    "Next, we will be analyzing applications which genre is Reference."
   ]
  },
  {
   "cell_type": "code",
   "execution_count": 28,
   "id": "532510ba",
   "metadata": {
    "scrolled": true
   },
   "outputs": [
    {
     "name": "stdout",
     "output_type": "stream",
     "text": [
      "Bible : 985920  installs\n",
      "Dictionary.com Dictionary & Thesaurus : 200047  installs\n",
      "Dictionary.com Dictionary & Thesaurus for iPad : 54175  installs\n",
      "Google Translate : 26786  installs\n",
      "Muslim Pro: Ramadan 2017 Prayer Times, Azan, Quran : 18418  installs\n",
      "New Furniture Mods - Pocket Wiki & Game Tools for Minecraft PC Edition : 17588  installs\n",
      "Merriam-Webster Dictionary : 16849  installs\n",
      "Night Sky : 12122  installs\n",
      "City Maps for Minecraft PE - The Best Maps for Minecraft Pocket Edition (MCPE) : 8535  installs\n",
      "LUCKY BLOCK MOD ™ for Minecraft PC Edition - The Best Pocket Wiki & Mods Installer Tools : 4693  installs\n",
      "GUNS MODS for Minecraft PC Edition - Mods Tools : 1497  installs\n",
      "Guides for Pokémon GO - Pokemon GO News and Cheats : 826  installs\n",
      "WWDC : 762  installs\n",
      "Horror Maps for Minecraft PE - Download The Scariest Maps for Minecraft Pocket Edition (MCPE) Free : 718  installs\n",
      "VPN Express : 14  installs\n",
      "Real Bike Traffic Rider Virtual Reality Glasses : 8  installs\n",
      "教えて!goo : 0  installs\n",
      "Jishokun-Japanese English Dictionary & Translator : 0  installs\n"
     ]
    }
   ],
   "source": [
    "print_installs_by_genre(Free_Cleaned_DataAppleStore, 11, 'Reference', 1, 5)"
   ]
  },
  {
   "cell_type": "markdown",
   "id": "7b6ac852",
   "metadata": {},
   "source": [
    "Distribution of ratings differs from the one we saw in the previous step. Here, we can see that the difference between the number of ratings is not so big, and the ratings are distributed more evenly. We can assign applications of the category to three main groups: dictionaries and translators, games manuals, and spiritual literature. Let's analyze the applications of these three groups.\n",
    "* **Dictionaries and translators**. Development of the next dictionary/translator will require a large number of costs and time, in addition, existing applications seems already have all the features that required by users. In addition to this, as we know for the `Apple Store` market most popular applications are the ones that were built for fun, and a dictionary/translator applications do not belong to this category, hence, developing that kind of applications will be probably unprofitable.\n",
    "* **Games manuals**. This group seems to show some potential, let's take a closer look. First of all, applications from this group correlate with the concept of entertainment application. People playing games usually spend recent amount of time in games and in application related to the games such as forums, markets, etc. If the game has complex game mechanics, a lot of in-game quests, character leveling systems, etc. then users with high probability will need a some kind of application where they can discuss all these aspects of the game. One of the most influential factor affecting the commercial success of the application will be the correct choice of the game.\n",
    "* **Spiritual literature**. Applications from this group are unlikely to be profitable because a number of users for such applications depends on religious orientation of the users. Applications for Christians and Muslims, the two most common religions in the world, are already exist, so development another one probably will not be successful, only if we add some unique and useful features in the application."
   ]
  },
  {
   "cell_type": "markdown",
   "id": "56e7de88",
   "metadata": {},
   "source": [
    "Next, we will be analyzing applications which genre is Social Networking."
   ]
  },
  {
   "cell_type": "code",
   "execution_count": 29,
   "id": "06f5a0a8",
   "metadata": {
    "scrolled": true
   },
   "outputs": [
    {
     "name": "stdout",
     "output_type": "stream",
     "text": [
      "Facebook : 2974676  installs\n",
      "Pinterest : 1061624  installs\n",
      "Skype for iPhone : 373519  installs\n",
      "Messenger : 351466  installs\n",
      "Tumblr : 334293  installs\n",
      "WhatsApp Messenger : 287589  installs\n",
      "Kik : 260965  installs\n",
      "ooVoo – Free Video Call, Text and Voice : 177501  installs\n",
      "TextNow - Unlimited Text + Calls : 164963  installs\n",
      "Viber Messenger – Text & Call : 164249  installs\n",
      "Followers - Social Analytics For Instagram : 112778  installs\n",
      "MeetMe - Chat and Meet New People : 97072  installs\n",
      "We Heart It - Fashion, wallpapers, quotes, tattoos : 90414  installs\n",
      "InsTrack for Instagram - Analytics Plus More : 85535  installs\n",
      "Tango - Free Video Call, Voice and Chat : 75412  installs\n",
      "LinkedIn : 71856  installs\n",
      "Match™ - #1 Dating App. : 60659  installs\n",
      "Skype for iPad : 60163  installs\n",
      "POF - Best Dating App for Conversations : 52642  installs\n",
      "Timehop : 49510  installs\n",
      "Find My Family, Friends & iPhone - Life360 Locator : 43877  installs\n",
      "Whisper - Share, Express, Meet : 39819  installs\n",
      "Hangouts : 36404  installs\n",
      "LINE PLAY - Your Avatar World : 34677  installs\n",
      "WeChat : 34584  installs\n",
      "Badoo - Meet New People, Chat, Socialize. : 34428  installs\n",
      "Followers + for Instagram - Follower Analytics : 28633  installs\n",
      "GroupMe : 28260  installs\n",
      "Marco Polo Video Walkie Talkie : 27662  installs\n",
      "Miitomo : 23965  installs\n",
      "SimSimi : 23530  installs\n",
      "Grindr - Gay and same sex guys chat, meet and date : 23201  installs\n",
      "Wishbone - Compare Anything : 20649  installs\n",
      "imo video calls and chat : 18841  installs\n",
      "After School - Funny Anonymous School News : 18482  installs\n",
      "Quick Reposter - Repost, Regram and Reshare Photos : 17694  installs\n",
      "Weibo HD : 16772  installs\n",
      "Repost for Instagram : 15185  installs\n",
      "Live.me – Live Video Chat & Make Friends Nearby : 14724  installs\n",
      "Nextdoor : 14402  installs\n",
      "Followers Analytics for Instagram - InstaReport : 13914  installs\n",
      "YouNow: Live Stream Video Chat : 12079  installs\n",
      "FollowMeter for Instagram - Followers Tracking : 11976  installs\n",
      "LINE : 11437  installs\n",
      "eHarmony™ Dating App - Meet Singles : 11124  installs\n",
      "Discord - Chat for Gamers : 9152  installs\n",
      "QQ : 9109  installs\n",
      "Telegram Messenger : 7573  installs\n",
      "Weibo : 7265  installs\n",
      "Periscope - Live Video Streaming Around the World : 6062  installs\n",
      "Chat for Whatsapp - iPad Version : 5060  installs\n",
      "QQ HD : 5058  installs\n",
      "Followers Analysis Tool For Instagram App Free : 4253  installs\n",
      "live.ly - live video streaming : 4145  installs\n",
      "Houseparty - Group Video Chat : 3991  installs\n",
      "SOMA Messenger : 3232  installs\n",
      "Monkey : 3060  installs\n",
      "Down To Lunch : 2535  installs\n",
      "Flinch - Video Chat Staring Contest : 2134  installs\n",
      "Highrise - Your Avatar Community : 2011  installs\n",
      "LOVOO - Dating Chat : 1985  installs\n",
      "PlayStation®Messages : 1918  installs\n",
      "BOO! - Video chat camera with filters & stickers : 1805  installs\n",
      "Qzone : 1649  installs\n",
      "Chatous - Chat with new people : 1609  installs\n",
      "Kiwi - Q&A : 1538  installs\n",
      "GhostCodes - a discovery app for Snapchat : 1313  installs\n",
      "Jodel : 1193  installs\n",
      "FireChat : 1037  installs\n",
      "Google Duo - simple video calling : 1033  installs\n",
      "Fiesta by Tango - Chat & Meet New People : 885  installs\n",
      "Google Allo — smart messaging : 862  installs\n",
      "Peach — share vividly : 727  installs\n",
      "Hey! VINA - Where Women Meet New Friends : 719  installs\n",
      "Battlefield™ Companion : 689  installs\n",
      "All Devices for WhatsApp - Messenger for iPad : 682  installs\n",
      "Chat for Pokemon Go - GoChat : 500  installs\n",
      "IAmNaughty – Dating App to Meet New People Online : 463  installs\n",
      "Qzone HD : 458  installs\n",
      "Zenly - Locate your friends in realtime : 427  installs\n",
      "League of Legends Friends : 420  installs\n",
      "豆瓣 : 407  installs\n",
      "Candid - Speak Your Mind Freely : 398  installs\n",
      "知乎 : 397  installs\n",
      "Selfeo : 366  installs\n",
      "Fake-A-Location Free ™ : 354  installs\n",
      "Popcorn Buzz - Free Group Calls : 281  installs\n",
      "Fam — Group video calling for iMessage : 279  installs\n",
      "QQ International : 274  installs\n",
      "Ameba : 269  installs\n",
      "SoundCloud Pulse: for creators : 240  installs\n",
      "Tantan : 235  installs\n",
      "Cougar Dating & Life Style App for Mature Women : 213  installs\n",
      "Rawr Messenger - Dab your chat : 180  installs\n",
      "WhenToPost: Best Time to Post Photos for Instagram : 158  installs\n",
      "Inke—Broadcast an amazing life : 147  installs\n",
      "Mustknow - anonymous video Q&A : 53  installs\n",
      "CTFxCmoji : 39  installs\n",
      "Lobi : 36  installs\n",
      "Chain: Collaborate On MyVideo Story/Group Video : 35  installs\n",
      "botman - Real time video chat : 7  installs\n",
      "BestieBox : 0  installs\n",
      "MATCH ON LINE chat : 0  installs\n",
      "niconico ch : 0  installs\n",
      "LINE BLOG : 0  installs\n",
      "bit-tube - Live Stream Video Chat : 0  installs\n"
     ]
    }
   ],
   "source": [
    "print_installs_by_genre(Free_Cleaned_DataAppleStore, 11, 'Social Networking', 1, 5)"
   ]
  },
  {
   "cell_type": "markdown",
   "id": "2a53f591",
   "metadata": {},
   "source": [
    "Development of an application in the genre of social networking can be very profitable. As we can see from the data above, in this genre, there is one application that is distinguished by the number of ratings: Facebook. But if we take a look at the rest of the applications, we will see that the distribution of ratings between applications is more evenly. This aspect allows us to conclude that the number of users of one or another social network strongly depends on design and features that the social network has and also for what group of people the social network was made.\n",
    "\n",
    "**Conclusion**: based on the results of the analysis of applications with the most popular genres, we can say that the most profitable applications for the `Apple Store` market could be a game manual of a popular game or a social network having good design, unique features and created for a large group of people united by a certain characteristic like social network for designers where users can send to each other layouts in the original, conduct presentations with the customers, etc."
   ]
  },
  {
   "cell_type": "markdown",
   "id": "436bde91",
   "metadata": {},
   "source": [
    "### Google Play market.\n",
    "For the `Google Play` market, we actually have data about the number of installs (column 5), so we should be able to get a clearer picture about genre popularity."
   ]
  },
  {
   "cell_type": "code",
   "execution_count": 30,
   "id": "89d5d310",
   "metadata": {},
   "outputs": [
    {
     "name": "stdout",
     "output_type": "stream",
     "text": [
      "1,000,000+ : 15.72 %\n",
      "100,000+ : 11.55 %\n",
      "10,000,000+ : 10.54 %\n",
      "10,000+ : 10.22 %\n",
      "1,000+ : 8.4 %\n",
      "100+ : 6.91 %\n",
      "5,000,000+ : 6.82 %\n",
      "500,000+ : 5.56 %\n",
      "50,000+ : 4.77 %\n",
      "5,000+ : 4.51 %\n",
      "10+ : 3.54 %\n",
      "500+ : 3.25 %\n",
      "50,000,000+ : 2.3 %\n",
      "100,000,000+ : 2.13 %\n",
      "50+ : 1.92 %\n",
      "5+ : 0.79 %\n",
      "1+ : 0.51 %\n",
      "500,000,000+ : 0.27 %\n",
      "1,000,000,000+ : 0.23 %\n",
      "0+ : 0.06 %\n",
      "0 : 0.01 %\n"
     ]
    }
   ],
   "source": [
    "Installs_DataGooglePlayStore = freq_table(Free_Cleaned_DataGooglePlayStore, 5)\n",
    "display_table(Installs_DataGooglePlayStore)"
   ]
  },
  {
   "cell_type": "markdown",
   "id": "04a765bf",
   "metadata": {},
   "source": [
    "The install numbers don't seem precise enough — we can see that most values are open-ended (100+, 1,000+, 5,000+, etc.). For instance, we do not know whether an app with 100,000+ installs has 100,000 installs, 200,000, or 350,000. However, we do not need very precise data for our purposes — we only want to get an idea which application genres attract the most users, and we do not need perfect precision with respect to the number of users.\n",
    "\n",
    "We are going to leave the numbers as they are, which means that we will consider that an application with 100,000+ installs has 100,000 installs, and an application with 1,000,000+ installs has 1,000,000 installs, and so on.\n",
    "\n",
    "To perform computations, we will need to convert each install number to float — this means that we need to remove the commas and the plus characters, otherwise the conversion will fail and raise an error."
   ]
  },
  {
   "cell_type": "code",
   "execution_count": 31,
   "id": "4396bdb4",
   "metadata": {},
   "outputs": [
    {
     "name": "stdout",
     "output_type": "stream",
     "text": [
      "ART_AND_DESIGN : 1986335.09 installs\n",
      "AUTO_AND_VEHICLES : 647317.82 installs\n",
      "BEAUTY : 513151.89 installs\n",
      "BOOKS_AND_REFERENCE : 8767811.89 installs\n",
      "BUSINESS : 1712290.15 installs\n",
      "COMICS : 817657.27 installs\n",
      "COMMUNICATION : 38456119.17 installs\n",
      "DATING : 854028.83 installs\n",
      "EDUCATION : 1833495.15 installs\n",
      "ENTERTAINMENT : 11640705.88 installs\n",
      "EVENTS : 253542.22 installs\n",
      "FINANCE : 1387692.48 installs\n",
      "FOOD_AND_DRINK : 1924897.74 installs\n",
      "HEALTH_AND_FITNESS : 4188821.99 installs\n",
      "HOUSE_AND_HOME : 1331540.56 installs\n",
      "LIBRARIES_AND_DEMO : 638503.73 installs\n",
      "LIFESTYLE : 1433701.52 installs\n",
      "GAME : 15588015.6 installs\n",
      "FAMILY : 3693438.69 installs\n",
      "MEDICAL : 119816.97 installs\n",
      "SOCIAL : 23253652.13 installs\n",
      "SHOPPING : 7036877.31 installs\n",
      "PHOTOGRAPHY : 17840110.4 installs\n",
      "SPORTS : 3638640.14 installs\n",
      "TRAVEL_AND_LOCAL : 13984077.71 installs\n",
      "TOOLS : 10801391.3 installs\n",
      "PERSONALIZATION : 5201482.61 installs\n",
      "PRODUCTIVITY : 16787331.34 installs\n",
      "PARENTING : 542603.62 installs\n",
      "WEATHER : 5074486.2 installs\n",
      "VIDEO_PLAYERS : 24727872.45 installs\n",
      "NEWS_AND_MAGAZINES : 9549178.47 installs\n",
      "MAPS_AND_NAVIGATION : 4056941.77 installs\n"
     ]
    }
   ],
   "source": [
    "Installs_Per_Genre_DataGooglePlayStore = reviews_by_genre(Common_Categories_DataGooglePlayStore, Free_Cleaned_DataGooglePlayStore, 1, 5, True, False)"
   ]
  },
  {
   "cell_type": "markdown",
   "id": "3484e0f8",
   "metadata": {},
   "source": [
    "To simplify the analysis, we will arrange the output in descending order."
   ]
  },
  {
   "cell_type": "code",
   "execution_count": 32,
   "id": "5132443d",
   "metadata": {
    "scrolled": true
   },
   "outputs": [
    {
     "name": "stdout",
     "output_type": "stream",
     "text": [
      "COMMUNICATION : 38456119.17 installs\n",
      "VIDEO_PLAYERS : 24727872.45 installs\n",
      "SOCIAL : 23253652.13 installs\n",
      "PHOTOGRAPHY : 17840110.4 installs\n",
      "PRODUCTIVITY : 16787331.34 installs\n",
      "GAME : 15588015.6 installs\n",
      "TRAVEL_AND_LOCAL : 13984077.71 installs\n",
      "ENTERTAINMENT : 11640705.88 installs\n",
      "TOOLS : 10801391.3 installs\n",
      "NEWS_AND_MAGAZINES : 9549178.47 installs\n",
      "BOOKS_AND_REFERENCE : 8767811.89 installs\n",
      "SHOPPING : 7036877.31 installs\n",
      "PERSONALIZATION : 5201482.61 installs\n",
      "WEATHER : 5074486.2 installs\n",
      "HEALTH_AND_FITNESS : 4188821.99 installs\n",
      "MAPS_AND_NAVIGATION : 4056941.77 installs\n",
      "FAMILY : 3693438.69 installs\n",
      "SPORTS : 3638640.14 installs\n",
      "ART_AND_DESIGN : 1986335.09 installs\n",
      "FOOD_AND_DRINK : 1924897.74 installs\n",
      "EDUCATION : 1833495.15 installs\n",
      "BUSINESS : 1712290.15 installs\n",
      "LIFESTYLE : 1433701.52 installs\n",
      "FINANCE : 1387692.48 installs\n",
      "HOUSE_AND_HOME : 1331540.56 installs\n",
      "DATING : 854028.83 installs\n",
      "COMICS : 817657.27 installs\n",
      "AUTO_AND_VEHICLES : 647317.82 installs\n",
      "LIBRARIES_AND_DEMO : 638503.73 installs\n",
      "PARENTING : 542603.62 installs\n",
      "BEAUTY : 513151.89 installs\n",
      "EVENTS : 253542.22 installs\n",
      "MEDICAL : 119816.97 installs\n"
     ]
    }
   ],
   "source": [
    "Installs_Per_Genre_DataGooglePlayStore_Desc = descending_order(Installs_Per_Genre_DataGooglePlayStore)"
   ]
  },
  {
   "cell_type": "markdown",
   "id": "b1f24d7b",
   "metadata": {},
   "source": [
    "As we can see, for the `Google Play Store` market the highest number of installs have applications related to the categories: communication, video players, social. Let's explore which applications are related to these categories. To do it, we will use the `print_names_by_genre` function."
   ]
  },
  {
   "cell_type": "code",
   "execution_count": 33,
   "id": "ecd032a3",
   "metadata": {},
   "outputs": [
    {
     "name": "stdout",
     "output_type": "stream",
     "text": [
      "WhatsApp Messenger : 1,000,000,000+  installs\n",
      "Messenger for SMS : 10,000,000+  installs\n",
      "My Tele2 : 5,000,000+  installs\n",
      "imo beta free calls and text : 100,000,000+  installs\n",
      "Contacts : 50,000,000+  installs\n",
      "Call Free – Free Call : 5,000,000+  installs\n",
      "Web Browser & Explorer : 5,000,000+  installs\n",
      "Browser 4G : 10,000,000+  installs\n",
      "MegaFon Dashboard : 10,000,000+  installs\n",
      "ZenUI Dialer & Contacts : 10,000,000+  installs\n",
      "Cricket Visual Voicemail : 10,000,000+  installs\n",
      "TracFone My Account : 1,000,000+  installs\n",
      "Xperia Link™ : 10,000,000+  installs\n",
      "TouchPal Keyboard - Fun Emoji & Android Keyboard : 10,000,000+  installs\n",
      "Skype Lite - Free Video Call & Chat : 5,000,000+  installs\n",
      "My magenta : 1,000,000+  installs\n",
      "Android Messages : 100,000,000+  installs\n",
      "Google Duo - High Quality Video Calls : 500,000,000+  installs\n",
      "Seznam.cz : 1,000,000+  installs\n",
      "Antillean Gold Telegram (original version) : 100,000+  installs\n",
      "AT&T Visual Voicemail : 10,000,000+  installs\n",
      "GMX Mail : 10,000,000+  installs\n",
      "Omlet Chat : 10,000,000+  installs\n",
      "My Vodacom SA : 5,000,000+  installs\n",
      "Microsoft Edge : 5,000,000+  installs\n",
      "Messenger – Text and Video Chat for Free : 1,000,000,000+  installs\n",
      "imo free video calls and chat : 500,000,000+  installs\n",
      "Calls & Text by Mo+ : 5,000,000+  installs\n",
      "free video calls and chat : 50,000,000+  installs\n",
      "Skype - free IM & video calls : 1,000,000,000+  installs\n",
      "Who : 100,000,000+  installs\n",
      "GO SMS Pro - Messenger, Free Themes, Emoji : 100,000,000+  installs\n",
      "Messaging+ SMS, MMS Free : 1,000,000+  installs\n",
      "chomp SMS : 10,000,000+  installs\n",
      "Glide - Video Chat Messenger : 10,000,000+  installs\n",
      "Text SMS : 10,000,000+  installs\n",
      "Talkray - Free Calls & Texts : 10,000,000+  installs\n",
      "LINE: Free Calls & Messages : 500,000,000+  installs\n",
      "GroupMe : 10,000,000+  installs\n",
      "mysms SMS Text Messaging Sync : 1,000,000+  installs\n",
      "2ndLine - Second Phone Number : 1,000,000+  installs\n",
      "Google Chrome: Fast & Secure : 1,000,000,000+  installs\n",
      "Firefox Browser fast & private : 100,000,000+  installs\n",
      "Ninesky Browser : 1,000,000+  installs\n",
      "Dolphin Browser - Fast, Private & Adblock🐬 : 50,000,000+  installs\n",
      "UC Browser - Fast Download Private & Secure : 500,000,000+  installs\n",
      "Ghostery Privacy Browser : 1,000,000+  installs\n",
      "InBrowser - Incognito Browsing : 1,000,000+  installs\n",
      "Lightning Web Browser : 500,000+  installs\n",
      "Web Browser : 500,000+  installs\n",
      "Contacts+ : 10,000,000+  installs\n",
      "ExDialer - Dialer & Contacts : 10,000,000+  installs\n",
      "PHONE for Google Voice & GTalk : 1,000,000+  installs\n",
      "Safest Call Blocker : 1,000,000+  installs\n",
      "Full Screen Caller ID : 5,000,000+  installs\n",
      "Hiya - Caller ID & Block : 10,000,000+  installs\n",
      "Mr. Number-Block calls & spam : 10,000,000+  installs\n",
      "Should I Answer? : 1,000,000+  installs\n",
      "RocketDial Dialer & Contacts : 1,000,000+  installs\n",
      "CIA - Caller ID & Call Blocker : 5,000,000+  installs\n",
      "Calls Blacklist - Call Blocker : 10,000,000+  installs\n",
      "Call Control - Call Blocker : 5,000,000+  installs\n",
      "True Contact - Real Caller ID : 1,000,000+  installs\n",
      "Video Caller Id : 1,000,000+  installs\n",
      "Sync.ME – Caller ID & Block : 5,000,000+  installs\n",
      "Burner - Free Phone Number : 1,000,000+  installs\n",
      "Caller ID + : 1,000,000+  installs\n",
      "Gmail : 1,000,000,000+  installs\n",
      "K-9 Mail : 5,000,000+  installs\n",
      "myMail – Email for Hotmail, Gmail and Outlook Mail : 10,000,000+  installs\n",
      "Email TypeApp - Mail App : 1,000,000+  installs\n",
      "All Email Providers : 1,000,000+  installs\n",
      "Newton Mail - Email App for Gmail, Outlook, IMAP : 1,000,000+  installs\n",
      "GO Notifier : 10,000,000+  installs\n",
      "Mail.Ru - Email App : 50,000,000+  installs\n",
      "Mail1Click - Secure Mail : 10,000+  installs\n",
      "Daum Mail - Next Mail : 5,000,000+  installs\n",
      "mail.com mail : 1,000,000+  installs\n",
      "SolMail - All-in-One email app : 500,000+  installs\n",
      "Hangouts : 1,000,000,000+  installs\n",
      "Vonage Mobile® Call Video Text : 1,000,000+  installs\n",
      "JusTalk - Free Video Calls and Fun Video Chat : 5,000,000+  installs\n",
      "Azar : 50,000,000+  installs\n",
      "LokLok: Draw on a Lock Screen : 500,000+  installs\n",
      "Discord - Chat for Gamers : 10,000,000+  installs\n",
      "Messenger Lite: Free Calls & Messages : 100,000,000+  installs\n",
      "AntennaPict β : 1,000,000+  installs\n",
      "Talkatone: Free Texts, Calls & Phone Number : 10,000,000+  installs\n",
      "Kik : 100,000,000+  installs\n",
      "K-@ Mail - Email App : 100,000+  installs\n",
      "KakaoTalk: Free Calls & Text : 100,000,000+  installs\n",
      "K-9 Material (unofficial) : 5,000+  installs\n",
      "M star Dialer : 100,000+  installs\n",
      "Free WiFi Connect : 10,000,000+  installs\n",
      "m:go BiH : 10,000+  installs\n",
      "N-Com Wizard : 50,000+  installs\n",
      "Opera Mini - fast web browser : 100,000,000+  installs\n",
      "Opera Browser: Fast and Secure : 100,000,000+  installs\n",
      "Opera Mini browser beta : 10,000,000+  installs\n",
      "Psiphon Pro - The Internet Freedom VPN : 10,000,000+  installs\n",
      "ICQ — Video Calls & Chat Messenger : 10,000,000+  installs\n",
      "Telegram : 100,000,000+  installs\n",
      "AT&T Messages for Tablet : 1,000,000+  installs\n",
      "T-Mobile DIGITS : 100,000+  installs\n",
      "Truecaller: Caller ID, SMS spam blocking & Dialer : 100,000,000+  installs\n",
      "Portable Wi-Fi hotspot : 10,000,000+  installs\n",
      "AT&T Call Protect : 5,000,000+  installs\n",
      "U - Webinars, Meetings & Messenger : 500,000+  installs\n",
      "UC Browser Mini -Tiny Fast Private & Secure : 100,000,000+  installs\n",
      "/u/app : 10,000+  installs\n",
      "[verify-U] VideoIdent : 10,000+  installs\n",
      "Viber Messenger : 500,000,000+  installs\n",
      "WeChat : 100,000,000+  installs\n",
      "WhatsApp Business : 10,000,000+  installs\n",
      "WhatsCall Free Global Phone Call App & Cheap Calls : 10,000,000+  installs\n",
      "X Browser : 50,000+  installs\n",
      "Yahoo Mail – Stay Organized : 100,000,000+  installs\n",
      "Free Adblocker Browser - Adblock & Popup Blocker : 10,000,000+  installs\n",
      "Adblock Browser for Android : 10,000,000+  installs\n",
      "CM Browser - Ad Blocker , Fast Download , Privacy : 50,000,000+  installs\n",
      "Adblock Plus for Samsung Internet - Browse safe. : 1,000,000+  installs\n",
      "Ad Blocker Turbo - Adblocker Browser : 10,000+  installs\n",
      "Brave Browser: Fast AdBlocker : 5,000,000+  installs\n",
      "AG Contacts, Lite edition : 5,000+  installs\n",
      "Oklahoma Ag Co-op Council : 10+  installs\n",
      "Bee'ah Employee App : 100+  installs\n",
      "tournaments and more.aj.2 : 100+  installs\n",
      "Aj.Petra : 100+  installs\n",
      "AK Phone : 5,000+  installs\n",
      "PlacarTv Futebol Ao Vivo : 100,000+  installs\n",
      "WiFi Access Point (hotspot) : 100,000+  installs\n",
      "Access Point Names : 10,000+  installs\n",
      "Puffin Web Browser : 10,000,000+  installs\n",
      "ClanHQ : 10,000+  installs\n",
      "Ear Agent: Super Hearing : 5,000,000+  installs\n",
      "Google Voice : 10,000,000+  installs\n",
      "Google Allo : 10,000,000+  installs\n",
      "AU Call Blocker - Block Unwanted Calls Texts 2018 : 1,000+  installs\n",
      "Baby Monitor AV : 100,000+  installs\n",
      "AV Phone : 1,000+  installs\n",
      "AW - free video calls and chat : 1,000,000+  installs\n",
      "Katalogen.ax : 100+  installs\n",
      "AZ Browser. Private & Download : 100,000+  installs\n",
      "BA SALES : 1+  installs\n",
      "BD Data Plan (3G & 4G) : 500,000+  installs\n",
      "BD Internet Packages (Updated) : 50,000+  installs\n",
      "BD Dialer : 10,000+  installs\n",
      "BD Live Call : 5,000+  installs\n",
      "Best Browser BD social networking : 10+  installs\n",
      "Traffic signs BD : 500+  installs\n",
      "BF Browser by Betfilter - Stop Gambling Today! : 10,000+  installs\n",
      "My BF App : 50,000+  installs\n",
      "BH Mail : 1,000+  installs\n",
      "Zalo – Video Call : 50,000,000+  installs\n",
      "BJ - Confidential : 10+  installs\n",
      "BK Chat : 1,000+  installs\n",
      "Of the wall Arapaho bk : 5+  installs\n",
      "AC-BL : 50+  installs\n",
      "BBM - Free Calls & Messages : 100,000,000+  installs\n",
      "DMR BrandMeister Tool : 10,000+  installs\n",
      "BBMoji - Your personalized BBM Stickers : 1,000,000+  installs\n",
      "BN MALLORCA Radio : 1,000+  installs\n",
      "BQ Partners : 1,000+  installs\n",
      "BS-Mobile : 50+  installs\n",
      "ATC Unico BS : 500+  installs\n",
      "BT One Voice mobile access : 5,000+  installs\n",
      "BT Messenger : 50,000+  installs\n",
      "BT One Phone Mobile App : 10,000+  installs\n",
      "SW-100.tch by Callstel : 1,000,000+  installs\n",
      "BT MeetMe with Dolby Voice : 100,000+  installs\n",
      "Bluetooth Auto Connect : 5,000,000+  installs\n",
      "AudioBT: BT audio GPS/SMS/Text : 50,000+  installs\n",
      "BV : 100+  installs\n",
      "Feel Performer : 10,000+  installs\n",
      "Tiny Call Confirm : 1,000,000+  installs\n",
      "CB Radio Chat - for friends! : 1,000,000+  installs\n",
      "CB On Mobile : 100,000+  installs\n",
      "Virtual Walkie Talkie : 1,000,000+  installs\n",
      "Channel 19 : 100,000+  installs\n",
      "Cb browser : 50+  installs\n",
      "CF Chat: Connecting Friends : 100+  installs\n",
      "retteMi.ch : 5,000+  installs\n",
      "Chrome Dev : 5,000,000+  installs\n",
      "CJ Browser - Fast & Private : 100+  installs\n",
      "CJ DVD Rentals : 100+  installs\n"
     ]
    },
    {
     "name": "stdout",
     "output_type": "stream",
     "text": [
      "CK Call NEW : 10+  installs\n",
      "CM Transfer - Share any files with friends nearby : 5,000,000+  installs\n",
      "mail.co.uk Mail : 5,000+  installs\n",
      "ClanPlay: Community and Tools for Gamers : 1,000,000+  installs\n",
      "CQ-Mobile : 1,000+  installs\n",
      "CQ-Alert : 500+  installs\n",
      "QRZ Assistant : 100,000+  installs\n",
      "Pocket Prefix Plus : 10,000+  installs\n",
      "Ham Radio Prefixes : 10,000+  installs\n",
      "CS Customizer : 1,000+  installs\n",
      "CS Browser | #1 & BEST BROWSER : 1,000+  installs\n",
      "CS Browser Beta : 5,000+  installs\n",
      "My Vodafone (GR) : 1,000,000+  installs\n",
      "IZ2UUF Morse Koch CW : 50,000+  installs\n",
      "C W Browser : 100+  installs\n",
      "CW Bluetooth SPP : 100+  installs\n",
      "CW BLE Peripheral Simulator : 500+  installs\n",
      "Morse Code Reader : 100,000+  installs\n",
      "Learn Morse Code - G0HYN Learn Morse : 5,000+  installs\n",
      "Ring : 10,000+  installs\n",
      "Hyundai CX Conference : 50+  installs\n",
      "Cy Messenger : 100+  installs\n",
      "Amadeus GR & CY : 100+  installs\n",
      "Hlášenírozhlasu.cz : 10+  installs\n",
      "SMS Sender - sluzba.cz : 1,000+  installs\n",
      "WEB.DE Mail : 10,000,000+  installs\n",
      "Your Freedom VPN Client : 5,000,000+  installs\n",
      "CallApp: Caller ID, Blocker & Phone Call Recorder : 10,000,000+  installs\n",
      "Rádio Sol Nascente DF : 500+  installs\n",
      "DG Card : 100+  installs\n",
      "Whoscall - Caller ID & Block : 10,000,000+  installs\n",
      "DK Browser : 10+  installs\n",
      "cluster.dk : 1,000+  installs\n",
      "DK TEL Dialer : 50+  installs\n",
      "DM for WhatsApp : 5,000+  installs\n",
      "DM Talk New : 5,000+  installs\n",
      "DM - The Offical Messaging App : 10+  installs\n",
      "DM Tracker : 1,000+  installs\n",
      "Call Blocker & Blacklist : 1,000+  installs\n",
      "ReadyOp DT : 1,000+  installs\n",
      "DU Browser—Browse fast & fun : 10,000,000+  installs\n",
      "Caller ID & Call Block - DU Caller : 5,000,000+  installs\n",
      "BlueDV AMBE : 1,000+  installs\n",
      "DW Contacts & Phone & Dialer : 1,000,000+  installs\n",
      "Deaf World DW : 10,000+  installs\n",
      "Ham DX Cluster & Spots Finder : 5,000+  installs\n",
      "Mircules DX Cluster Lite : 5,000+  installs\n",
      "3G DZ Configuration : 50,000+  installs\n",
      "chat dz : 100+  installs\n",
      "love sms good morning : 5,000+  installs\n",
      "Goodbox - Mega App : 100,000+  installs\n",
      "Call Blocker - Blacklist, SMS Blocker : 1,000,000+  installs\n",
      "[EF]ShoutBox : 100+  installs\n",
      "Eg Call : 10,000+  installs\n",
      "ei : 10+  installs\n",
      "EJ messenger : 10+  installs\n",
      "Ek IRA : 10+  installs\n",
      "Orfox: Tor Browser for Android : 10,000,000+  installs\n",
      "EO Mumbai : 10+  installs\n",
      "EP RSS Reader : 100+  installs\n",
      "Voxer Walkie Talkie Messenger : 10,000,000+  installs\n",
      "ES-1 : 500+  installs\n",
      "Hangouts Dialer - Call Phones : 10,000,000+  installs\n",
      "EU Council : 1,000+  installs\n",
      "Council Voting Calculator : 5,000+  installs\n",
      "Have your say on Europe : 500+  installs\n",
      "Programi podrške EU : 100+  installs\n",
      "Inbox.eu : 10,000+  installs\n",
      "Web Browser for Android : 1,000,000+  installs\n",
      "Everbridge : 100,000+  installs\n",
      "Best Auto Call Recorder Free : 500+  installs\n",
      "EZ Wifi Notification : 10,000+  installs\n",
      "Test Server SMS FA : 5+  installs\n",
      "Lite for Facebook Messenger : 1,000,000+  installs\n",
      "FC Browser - Focus Privacy Browser : 1,000+  installs\n",
      "EHiN-FH conferenceapp : 100+  installs\n",
      "Carpooling FH Hagenberg : 100+  installs\n",
      "Wi-Fi Auto-connect : 1,000,000+  installs\n",
      "Talkie - Wi-Fi Calling, Chats, File Sharing : 500,000+  installs\n",
      "WeFi - Free Fast WiFi Connect & Find Wi-Fi Map : 1,000,000+  installs\n",
      "Sat-Fi : 5,000+  installs\n",
      "Portable Wi-Fi hotspot Free : 100,000+  installs\n",
      "TownWiFi | Wi-Fi Everywhere : 500,000+  installs\n",
      "Jazz Wi-Fi : 10,000+  installs\n",
      "Sat-Fi Voice : 1,000+  installs\n",
      "Free Wi-fi HotspoT : 50,000+  installs\n",
      "FN Web Radio : 10+  installs\n",
      "FNH Payment Info : 10+  installs\n",
      "MARKET FO : 100+  installs\n",
      "FO OP St-Nazaire : 100+  installs\n",
      "FO SODEXO : 100+  installs\n",
      "FO RCBT : 100+  installs\n",
      "FO Interim : 100+  installs\n",
      "FO PSA Sept-Fons : 100+  installs\n",
      "FO AIRBUS TLSE : 1,000+  installs\n",
      "FO STELIA Méaulte : 100+  installs\n",
      "FO AIRBUS Nantes : 100+  installs\n",
      "Firefox Focus: The privacy browser : 1,000,000+  installs\n",
      "FP Connect : 100+  installs\n",
      "FreedomPop Messaging Phone/SIM : 500,000+  installs\n",
      "FP Live : 10+  installs\n",
      "HipChat - beta version : 50,000+  installs\n"
     ]
    }
   ],
   "source": [
    "print_installs_by_genre(Free_Cleaned_DataGooglePlayStore, 1, 'COMMUNICATION', 0, 5)"
   ]
  },
  {
   "cell_type": "markdown",
   "id": "03f505de",
   "metadata": {},
   "source": [
    "We can see, that there are a lot of applications, what have a number of installing higher then 1000000. In addition, the distribution of installs looks pretty uniform. Such distribution serves as an indicator that this niche of applications can be quite profitable if our application will be good enough, well designed and have features. We got the same result for the `Apple Store` market, so for the first iteration we already can say what development an application in this category be quite a promising.\n",
    "\n",
    "The video players category unlikely to be profitable for the `Apple Store` market, so we will not axplore applications from the category.\n",
    "\n",
    "The next category for the analysis will be `SOCIAL`."
   ]
  },
  {
   "cell_type": "code",
   "execution_count": 34,
   "id": "ec78e301",
   "metadata": {
    "scrolled": true
   },
   "outputs": [
    {
     "name": "stdout",
     "output_type": "stream",
     "text": [
      "Facebook : 1,000,000,000+  installs\n",
      "Facebook Lite : 500,000,000+  installs\n",
      "Tumblr : 100,000,000+  installs\n",
      "Social network all in one 2018 : 100,000+  installs\n",
      "Pinterest : 100,000,000+  installs\n",
      "TextNow - free text + calls : 10,000,000+  installs\n",
      "Google+ : 1,000,000,000+  installs\n",
      "The Messenger App : 1,000,000+  installs\n",
      "Messenger Pro : 1,000,000+  installs\n",
      "Free Messages, Video, Chat,Text for Messenger Plus : 1,000,000+  installs\n",
      "Telegram X : 5,000,000+  installs\n",
      "The Video Messenger App : 100,000+  installs\n",
      "Jodel - The Hyperlocal App : 1,000,000+  installs\n",
      "Hide Something - Photo, Video : 5,000,000+  installs\n",
      "Love Sticker : 1,000,000+  installs\n",
      "Web Browser & Fast Explorer : 5,000,000+  installs\n",
      "LiveMe - Video chat, new friends, and make money : 10,000,000+  installs\n",
      "VidStatus app - Status Videos & Status Downloader : 5,000,000+  installs\n",
      "Love Images : 1,000,000+  installs\n",
      "Web Browser ( Fast & Secure Web Explorer) : 500,000+  installs\n",
      "SPARK - Live random video chat & meet new people : 5,000,000+  installs\n",
      "Golden telegram : 50,000+  installs\n",
      "Facebook Local : 1,000,000+  installs\n",
      "Meet – Talk to Strangers Using Random Video Chat : 5,000,000+  installs\n",
      "MobilePatrol Public Safety App : 1,000,000+  installs\n",
      "💘 WhatsLov: Smileys of love, stickers and GIF : 1,000,000+  installs\n",
      "HTC Social Plugin - Facebook : 10,000,000+  installs\n",
      "Quora : 10,000,000+  installs\n",
      "Kate Mobile for VK : 10,000,000+  installs\n",
      "Family GPS tracker KidControl + GPS by SMS Locator : 1,000,000+  installs\n",
      "Moment : 1,000,000+  installs\n",
      "Text Me: Text Free, Call Free, Second Phone Number : 10,000,000+  installs\n",
      "Text Free: WiFi Calling App : 5,000,000+  installs\n",
      "Badoo - Free Chat & Dating App : 100,000,000+  installs\n",
      "Text free - Free Text + Call : 10,000,000+  installs\n",
      "Tango - Live Video Broadcast : 100,000,000+  installs\n",
      "ooVoo Video Calls, Messaging & Stories : 50,000,000+  installs\n",
      "Whisper : 5,000,000+  installs\n",
      "Blogger : 5,000,000+  installs\n",
      "Bloglovin' : 500,000+  installs\n",
      "Blogaway for Android (Blogger) : 100,000+  installs\n",
      "Instagram : 1,000,000,000+  installs\n",
      "TwitCasting Live : 1,000,000+  installs\n",
      "Stream - Live Video Community : 500,000+  installs\n",
      "YouNow: Live Stream Video Chat : 10,000,000+  installs\n",
      "Mirrativ: Live Stream Any App : 500,000+  installs\n",
      "Snapchat : 500,000,000+  installs\n",
      "Banjo : 1,000,000+  installs\n",
      "We Heart It : 10,000,000+  installs\n",
      "MeetMe: Chat & Meet New People : 50,000,000+  installs\n",
      "Timehop : 5,000,000+  installs\n",
      "Frontback - Social Photos : 1,000,000+  installs\n",
      "LinkedIn : 100,000,000+  installs\n",
      "Path : 10,000,000+  installs\n",
      "SayHi Chat, Meet New People : 10,000,000+  installs\n",
      "Tapatalk - 100,000+ Forums : 10,000,000+  installs\n",
      "Couple - Relationship App : 1,000,000+  installs\n",
      "Nextdoor - Local neighborhood news & classifieds : 5,000,000+  installs\n",
      "LOVOO : 10,000,000+  installs\n",
      "Jaumo Dating, Flirt & Live Video : 10,000,000+  installs\n",
      "Patook - make platonic friends : 100,000+  installs\n",
      "Zello PTT Walkie Talkie : 50,000,000+  installs\n",
      "textPlus: Free Text & Calls : 10,000,000+  installs\n",
      "magicApp Calling & Messaging : 10,000,000+  installs\n",
      "Dating App, Flirt & Chat : W-Match : 10,000,000+  installs\n",
      "uCiC- Videos and Photos on demand : 100,000+  installs\n",
      "Meetup : 5,000,000+  installs\n",
      "POF Free Dating App : 50,000,000+  installs\n",
      "Tagged - Meet, Chat & Dating : 10,000,000+  installs\n",
      "SKOUT - Meet, Chat, Go Live : 50,000,000+  installs\n",
      "Mico- Stranger Chat Random video Chat, Live, Meet : 10,000,000+  installs\n",
      "Waplog - Free Chat, Dating App, Meet Singles : 10,000,000+  installs\n",
      "Tik Tok - including musical.ly : 100,000,000+  installs\n",
      "B-Messenger Video Chat : 1,000,000+  installs\n",
      "BIGO LIVE - Live Stream : 100,000,000+  installs\n",
      "Greeting Cards & Wishes : 500,000+  installs\n",
      "Share G - Images Sharing - Wallpapers App : 10,000+  installs\n",
      "H letter images : 1,000+  installs\n",
      "Instachat 😜 : 5,000,000+  installs\n",
      "Fame Boom for Real Followers, Likes : 5,000,000+  installs\n",
      "FollowMeter for Instagram : 1,000,000+  installs\n",
      "Mali J : 10,000+  installs\n",
      "KDRAMA Amino for K-Drama Fans : 100,000+  installs\n",
      "KPOP Amino for K-Pop Entertainment : 100,000+  installs\n",
      "EXO-L Amino for EXO Fans : 50,000+  installs\n",
      "Verdad o Reto : 500,000+  installs\n",
      "pixiv : 1,000,000+  installs\n",
      "Join R, Community Engagement : 1,000+  installs\n",
      "U LIVE – Video Chat & Stream : 1,000,000+  installs\n",
      "See U - Random video chat, video chat : 100,000+  installs\n",
      "What U See : 100,000+  installs\n",
      "U-Report : 10,000+  installs\n",
      "Meet U - Get Friends for Snapchat, Kik & Instagram : 100,000+  installs\n",
      "VMate Lite - Funny Short Videos Social Network : 1,000,000+  installs\n",
      "V Bucks ProTips New : 1,000+  installs\n",
      "i-share AF/KLM (AFKL ishare) : 100+  installs\n",
      "Eternal Light AG : 100+  installs\n",
      "Message AI - Write Better Messages (Free) : 100+  installs\n",
      "Jamaa Amino for Animal Jam : 10,000+  installs\n",
      "Legend - Animate Text in Video : 10,000,000+  installs\n",
      "GUYZ - Gay Chat & Gay Dating : 1,000,000+  installs\n",
      "eChallan Andhra Pradesh (AP) : 1,000+  installs\n",
      "Snaappy – 3D fun AR core communication platform : 1,000,000+  installs\n",
      "Undertale AU Amino : 50,000+  installs\n",
      "Au Pair : 10,000+  installs\n",
      "Media Sosial TNI AU : 1,000+  installs\n",
      "BA 3 Banjarmasin : 10+  installs\n",
      "iCard BD Plus : 500+  installs\n",
      "Movement BE : 100+  installs\n",
      "YAY - TBH : 100,000+  installs\n",
      "Find My Friends : 10,000,000+  installs\n",
      "BG LINKED (BGLINKED) : 1,000+  installs\n",
      "Zdravei.BG : 1,000+  installs\n",
      "BGKontakti London BG Kontakti : 500+  installs\n",
      "BGKontakti Bayern BG Kontakti : 1,000+  installs\n",
      "BGKontakti Vienna BG Kontakti : 1,000+  installs\n",
      "Discípulos em BH : 100+  installs\n",
      "BH Connect : 1+  installs\n",
      "Gayvox - Gay Lesbian Bi Dating : 500,000+  installs\n",
      "Grindr - Gay chat : 10,000,000+  installs\n",
      "Lesbian Chat & Dating - SPICY : 1,000,000+  installs\n",
      "Alumni BJ : 100+  installs\n",
      "VK : 100,000,000+  installs\n",
      "BK Traffic Control cum Chart : 10,000+  installs\n",
      "Daily Murli Saar Widget : 10,000+  installs\n",
      "Myjob@BM : 100+  installs\n",
      "bm-Events : 10+  installs\n",
      "BOO! - Next Generation Messenger : 1,000,000+  installs\n",
      "Wishbone - Compare Anything : 1,000,000+  installs\n",
      "BR Chat Bot : 1,000+  installs\n",
      "Br Browser : 500+  installs\n",
      "Dr B R Ambedkar (Jai Bhim) : 100,000+  installs\n",
      "Dr. B.R.Ambedkar : 100,000+  installs\n",
      "Black Social : 1,000+  installs\n",
      "BT Communicator : 10,000+  installs\n",
      "BT Dating -Find your match, help cupid, be social : 50,000+  installs\n",
      "Fiesta by Tango - Find, Meet and Make New Friends : 1,000,000+  installs\n",
      "Evasion.bz : 100+  installs\n",
      "CB Heroes : 5+  installs\n",
      "CG Districts : 1,000+  installs\n",
      "Digi-TV.ch : 10,000+  installs\n",
      "Students.ch : 1,000+  installs\n",
      "CJ Gospel Hour : 100+  installs\n",
      "Pekalongan CJ : 0+  installs\n",
      "Hashtags For Likes.co : 50,000+  installs\n",
      "CP Dialer : 50,000+  installs\n",
      "C.P. CERVANTES (TOBARRA) : 5+  installs\n",
      "Cyprus Police : 10,000+  installs\n",
      "Rande.cz : 50,000+  installs\n",
      "signály.cz : 1,000+  installs\n",
      "DB Event App : 5,000+  installs\n",
      "DC Comics Amino : 1,000+  installs\n",
      "DF BugMeNot : 500+  installs\n",
      "Noticias DF : 1,000+  installs\n",
      "Periscope - Live Video : 10,000,000+  installs\n",
      "Daddyhunt: Gay Dating : 500,000+  installs\n",
      "Free phone calls, free texting SMS on free number : 10,000,000+  installs\n",
      "Phone Tracker : Family Locator : 10,000,000+  installs\n",
      "HOLLA Live: Meet New People via Random Video Chat : 5,000,000+  installs\n",
      "Dating.dk : 100,000+  installs\n",
      "DK Murali : 500+  installs\n",
      "GirlTalk.dk : 100+  installs\n",
      "+Download 4 Instagram Twitter : 1,000,000+  installs\n",
      "DM Me - Chat : 10,000+  installs\n",
      "DM for IG 😘 - Image & Video Saver for Instagram : 5,000+  installs\n",
      "Auto DM for Twitter 🔥 : 1,000+  installs\n",
      "DM Storage (for twitter) : 100+  installs\n",
      "Fake Chat (Direct Message) : 500,000+  installs\n",
      "Otto DM : 10+  installs\n",
      "DN Blog : 10+  installs\n",
      "DP and Status for WhatsApp 2018 : 100,000+  installs\n",
      "Dp For Whatsapp : 5,000+  installs\n",
      "Profile Pictures and DP for Whatsapp : 5,000+  installs\n",
      "Dp for Facebook : 5,000+  installs\n",
      "Best DP and Status : 10,000+  installs\n",
      "Instant DP Downloader for Instagram : 5,000+  installs\n",
      "DP Display Pictures Life Quotes Motivational GM : 5,000+  installs\n",
      "Qeek for Instagram - Zoom profile insta DP : 500,000+  installs\n",
      "DV Statistics : 100+  installs\n",
      "DW Streaming : 1,000+  installs\n",
      "News Dz : 10+  installs\n",
      "quran-DZ : 10+  installs\n",
      "TN e Sevai TN EB Bill Patta Citta EC Birth All Hub : 5,000+  installs\n",
      "TNEB Bill Online Payment (Tamil) : 5,000+  installs\n",
      "UP EB Bill Payment & Details : 50+  installs\n",
      "TN EC Online New : 1,000+  installs\n",
      "TN Patta /Chitta /EC New : 100+  installs\n",
      "EG Way Life : 50+  installs\n",
      "Equestria Amino for MLP : 50,000+  installs\n",
      "Ek Maratha : 10,000+  installs\n",
      "Hum Ek Hain 2.02 : 10+  installs\n",
      "Sabka Malik Ek Sai : 1,000+  installs\n",
      "EO RAIPUR : 10+  installs\n",
      "Anime et Manga Amino en Français : 50,000+  installs\n",
      "Hornet - Gay Social Network : 5,000,000+  installs\n",
      "Amino: Communities and Chats : 10,000,000+  installs\n",
      "European Solidarity Corps : 1,000+  installs\n",
      "Reisedealz.eu : 10+  installs\n"
     ]
    },
    {
     "name": "stdout",
     "output_type": "stream",
     "text": [
      "Eddsworld Amino : 10,000+  installs\n",
      "Rejoin Your Ex : 100+  installs\n",
      "Amleen Ey : 1+  installs\n",
      "Coupe Adhémar EY 2017 : 50+  installs\n",
      "EZ Video Download for Facebook : 1,000,000+  installs\n",
      "Messages, Text and Video Chat for Messenger : 10,000,000+  installs\n",
      "All Social Networks : 1,000,000+  installs\n",
      "Messenger Messenger : 10,000,000+  installs\n",
      "Facebook Creator : 1,000,000+  installs\n",
      "Swift for Facebook Lite : 500,000+  installs\n",
      "Friendly for Facebook : 1,000,000+  installs\n",
      "Faster for Facebook Lite : 1,000,000+  installs\n",
      "Puffin for Facebook : 500,000+  installs\n",
      "Profile Tracker - Who Viewed My Facebook Profile : 500,000+  installs\n",
      "Pink Color for Facebook : 500,000+  installs\n",
      "Messenger : 10,000,000+  installs\n",
      "Stickers for Imo, fb, whatsapp : 10,000+  installs\n",
      "Who Viewed My Facebook Profile - Stalkers Visitors : 5,000,000+  installs\n",
      "Downloader plus for FB : 500+  installs\n",
      "MB Notifications for FB (Free) : 100,000+  installs\n",
      "Phoenix - Facebook & Messenger : 100,000+  installs\n",
      "Faster Social for Facebook : 100,000+  installs\n",
      "Check Your Visitors on FB ? : 5,000+  installs\n",
      "Stickers for Facebook : 1,000,000+  installs\n",
      "Lite Messenger for Facebook Lite : 10,000+  installs\n",
      "Mini for Facebook lite : 10,000+  installs\n",
      "FB Advanced Search : 50+  installs\n",
      "funny Image Comments for FB : 5,000+  installs\n",
      "Unlimited Group Links - Whatsapp, FB, Telegram : 10,000+  installs\n",
      "FCB Connect - FC Barcelona : 50,000+  installs\n",
      "Frases Cristianas de Esperanza y Fe : 100+  installs\n",
      "FutureNet your social app : 100,000+  installs\n",
      "Alarm.fo – choose your info : 1,000+  installs\n",
      "FunForMobile Ringtones & Chat : 5,000,000+  installs\n",
      "Chat For Strangers - Video Chat : 100,000+  installs\n",
      "Fr Daoud Lamei : 100,000+  installs\n",
      "Naruto & Boruto FR : 100+  installs\n",
      "Frim: get new friends on local chat rooms : 5,000,000+  installs\n"
     ]
    }
   ],
   "source": [
    "print_installs_by_genre(Free_Cleaned_DataGooglePlayStore, 1, 'SOCIAL', 0, 5)"
   ]
  },
  {
   "cell_type": "markdown",
   "id": "0a27f7a8",
   "metadata": {},
   "source": [
    "The distribution of the applications installs looks quite similar to the one we saw in the `Apple Store` dataset. Again, in the first place by installs is Facebook, but there are a lot of other applications which have a decent number of installs. This distribution leads us to the same conclusion: developing another application in the social media category can be quite profitable. The only we have to do is determinate the target audience for our application and features that users need.\n",
    "\n",
    "**Conclusion**: based on the results of the analysis of applications with the most popular genres, we can say that the most profitable applications for the `Google Play Store` market could be a social network application having good design, unique features."
   ]
  },
  {
   "cell_type": "markdown",
   "id": "45a8a189",
   "metadata": {},
   "source": [
    "# Conclusions\n",
    "In this project, we analyzed data about the `App Store` and `Google Play` mobile applications with the goal of recommending an application profile that can be profitable for both markets.\n",
    "\n",
    "We concluded that development a `social network` application could be very profitable for both the `Google Play` and the `App Store` markets. The markets are already full of social networks, so we need to correctly determine the group of people who will use the application and add some special features. We also know that for the `App Store` market the second most popular genre is reference where we saw that games manual also look promising. Combinimg this information, we can assume that developing a social network application, for example, for gamers, could be quite profitable for both markets.\n",
    "\n"
   ]
  }
 ],
 "metadata": {
  "kernelspec": {
   "display_name": "Python 3",
   "language": "python",
   "name": "python3"
  },
  "language_info": {
   "codemirror_mode": {
    "name": "ipython",
    "version": 3
   },
   "file_extension": ".py",
   "mimetype": "text/x-python",
   "name": "python",
   "nbconvert_exporter": "python",
   "pygments_lexer": "ipython3",
   "version": "3.8.8"
  }
 },
 "nbformat": 4,
 "nbformat_minor": 5
}
